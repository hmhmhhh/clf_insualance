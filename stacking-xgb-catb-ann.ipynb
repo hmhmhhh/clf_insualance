{
 "cells": [
  {
   "cell_type": "markdown",
   "id": "3b14c57c",
   "metadata": {
    "papermill": {
     "duration": 0.013725,
     "end_time": "2024-07-14T15:21:50.786961",
     "exception": false,
     "start_time": "2024-07-14T15:21:50.773236",
     "status": "completed"
    },
    "tags": []
   },
   "source": [
    "<a id = \"1\"></a><br>\n",
    "# Load Python Pakages\n"
   ]
  },
  {
   "cell_type": "code",
   "execution_count": 1,
   "id": "8475d7cd",
   "metadata": {
    "execution": {
     "iopub.execute_input": "2024-07-14T15:21:50.814523Z",
     "iopub.status.busy": "2024-07-14T15:21:50.814193Z",
     "iopub.status.idle": "2024-07-14T15:21:57.113546Z",
     "shell.execute_reply": "2024-07-14T15:21:57.112557Z"
    },
    "papermill": {
     "duration": 6.31615,
     "end_time": "2024-07-14T15:21:57.116199",
     "exception": false,
     "start_time": "2024-07-14T15:21:50.800049",
     "status": "completed"
    },
    "tags": []
   },
   "outputs": [],
   "source": [
    "#basics\n",
    "import numpy as np\n",
    "import pandas as pd \n",
    "import polars as pl\n",
    "import seaborn as sns\n",
    "import time\n",
    "import matplotlib.pyplot as plt\n",
    "import missingno as msno\n",
    "\n",
    "import warnings\n",
    "warnings.filterwarnings(\"ignore\")\n",
    "\n",
    "#preprocessing\n",
    "from sklearn.preprocessing import StandardScaler, PowerTransformer, MinMaxScaler, LabelEncoder,OneHotEncoder, OrdinalEncoder\n",
    "\n",
    "#feature engineering\n",
    "from sklearn.feature_selection import mutual_info_classif\n",
    "\n",
    "\n",
    "#transformers and pipeline\n",
    "from sklearn.base import BaseEstimator, TransformerMixin\n",
    "from sklearn.base import clone\n",
    "from sklearn.compose import ColumnTransformer\n",
    "from sklearn.pipeline import Pipeline, make_pipeline, FeatureUnion\n",
    "from sklearn import set_config\n",
    "\n",
    "#algorithms\n",
    "from xgboost import XGBClassifier\n",
    "import xgboost as xgb\n",
    "from catboost import CatBoostClassifier\n",
    "from lightgbm import LGBMClassifier\n",
    "from sklearn.base import clone\n",
    "from lightgbm import early_stopping\n",
    "from lightgbm import log_evaluation\n",
    "from sklearn.linear_model import LogisticRegression\n",
    "\n",
    "\n",
    "#model evaluation\n",
    "from sklearn.model_selection import cross_val_score, cross_validate\n",
    "from sklearn.model_selection import StratifiedShuffleSplit, StratifiedKFold\n",
    "from sklearn.model_selection import train_test_split\n",
    "from sklearn.metrics import roc_auc_score, log_loss, auc, accuracy_score, balanced_accuracy_score\n",
    "from sklearn.metrics import make_scorer, RocCurveDisplay, confusion_matrix\n",
    "\n",
    "# Optuna and visualization tools\n",
    "import optuna\n",
    "from optuna.samplers import TPESampler\n",
    "from optuna.visualization import plot_contour\n",
    "from optuna.visualization import plot_edf\n",
    "from optuna.visualization import plot_intermediate_values\n",
    "from optuna.visualization import plot_optimization_history\n",
    "from optuna.visualization import plot_parallel_coordinate\n",
    "from optuna.visualization import plot_param_importances\n",
    "from optuna.visualization import plot_slice\n",
    "\n",
    "random_state = 42\n"
   ]
  },
  {
   "cell_type": "markdown",
   "id": "b7bb7de4",
   "metadata": {
    "papermill": {
     "duration": 0.013293,
     "end_time": "2024-07-14T15:21:57.143523",
     "exception": false,
     "start_time": "2024-07-14T15:21:57.130230",
     "status": "completed"
    },
    "tags": []
   },
   "source": [
    "<a id = \"2\"></a><br>\n",
    "#  First look to data"
   ]
  },
  {
   "cell_type": "code",
   "execution_count": 2,
   "id": "7f1d6178",
   "metadata": {
    "execution": {
     "iopub.execute_input": "2024-07-14T15:21:57.172473Z",
     "iopub.status.busy": "2024-07-14T15:21:57.171865Z",
     "iopub.status.idle": "2024-07-14T15:22:31.240872Z",
     "shell.execute_reply": "2024-07-14T15:22:31.239959Z"
    },
    "papermill": {
     "duration": 34.099517,
     "end_time": "2024-07-14T15:22:31.256811",
     "exception": false,
     "start_time": "2024-07-14T15:21:57.157294",
     "status": "completed"
    },
    "tags": []
   },
   "outputs": [
    {
     "data": {
      "text/html": [
       "<div>\n",
       "<style scoped>\n",
       "    .dataframe tbody tr th:only-of-type {\n",
       "        vertical-align: middle;\n",
       "    }\n",
       "\n",
       "    .dataframe tbody tr th {\n",
       "        vertical-align: top;\n",
       "    }\n",
       "\n",
       "    .dataframe thead th {\n",
       "        text-align: right;\n",
       "    }\n",
       "</style>\n",
       "<table border=\"1\" class=\"dataframe\">\n",
       "  <thead>\n",
       "    <tr style=\"text-align: right;\">\n",
       "      <th></th>\n",
       "      <th>Gender</th>\n",
       "      <th>Age</th>\n",
       "      <th>Driving_License</th>\n",
       "      <th>Region_Code</th>\n",
       "      <th>Previously_Insured</th>\n",
       "      <th>Vehicle_Age</th>\n",
       "      <th>Vehicle_Damage</th>\n",
       "      <th>Annual_Premium</th>\n",
       "      <th>Policy_Sales_Channel</th>\n",
       "      <th>Vintage</th>\n",
       "      <th>Response</th>\n",
       "    </tr>\n",
       "    <tr>\n",
       "      <th>id</th>\n",
       "      <th></th>\n",
       "      <th></th>\n",
       "      <th></th>\n",
       "      <th></th>\n",
       "      <th></th>\n",
       "      <th></th>\n",
       "      <th></th>\n",
       "      <th></th>\n",
       "      <th></th>\n",
       "      <th></th>\n",
       "      <th></th>\n",
       "    </tr>\n",
       "  </thead>\n",
       "  <tbody>\n",
       "    <tr>\n",
       "      <th>0</th>\n",
       "      <td>Male</td>\n",
       "      <td>21</td>\n",
       "      <td>1</td>\n",
       "      <td>35.0</td>\n",
       "      <td>0</td>\n",
       "      <td>1-2 Year</td>\n",
       "      <td>Yes</td>\n",
       "      <td>65101.0</td>\n",
       "      <td>124.0</td>\n",
       "      <td>187</td>\n",
       "      <td>0</td>\n",
       "    </tr>\n",
       "    <tr>\n",
       "      <th>1</th>\n",
       "      <td>Male</td>\n",
       "      <td>43</td>\n",
       "      <td>1</td>\n",
       "      <td>28.0</td>\n",
       "      <td>0</td>\n",
       "      <td>&gt; 2 Years</td>\n",
       "      <td>Yes</td>\n",
       "      <td>58911.0</td>\n",
       "      <td>26.0</td>\n",
       "      <td>288</td>\n",
       "      <td>1</td>\n",
       "    </tr>\n",
       "    <tr>\n",
       "      <th>2</th>\n",
       "      <td>Female</td>\n",
       "      <td>25</td>\n",
       "      <td>1</td>\n",
       "      <td>14.0</td>\n",
       "      <td>1</td>\n",
       "      <td>&lt; 1 Year</td>\n",
       "      <td>No</td>\n",
       "      <td>38043.0</td>\n",
       "      <td>152.0</td>\n",
       "      <td>254</td>\n",
       "      <td>0</td>\n",
       "    </tr>\n",
       "    <tr>\n",
       "      <th>3</th>\n",
       "      <td>Female</td>\n",
       "      <td>35</td>\n",
       "      <td>1</td>\n",
       "      <td>1.0</td>\n",
       "      <td>0</td>\n",
       "      <td>1-2 Year</td>\n",
       "      <td>Yes</td>\n",
       "      <td>2630.0</td>\n",
       "      <td>156.0</td>\n",
       "      <td>76</td>\n",
       "      <td>0</td>\n",
       "    </tr>\n",
       "    <tr>\n",
       "      <th>4</th>\n",
       "      <td>Female</td>\n",
       "      <td>36</td>\n",
       "      <td>1</td>\n",
       "      <td>15.0</td>\n",
       "      <td>1</td>\n",
       "      <td>1-2 Year</td>\n",
       "      <td>No</td>\n",
       "      <td>31951.0</td>\n",
       "      <td>152.0</td>\n",
       "      <td>294</td>\n",
       "      <td>0</td>\n",
       "    </tr>\n",
       "  </tbody>\n",
       "</table>\n",
       "</div>"
      ],
      "text/plain": [
       "    Gender  Age  Driving_License  Region_Code  Previously_Insured Vehicle_Age  \\\n",
       "id                                                                              \n",
       "0     Male   21                1         35.0                   0    1-2 Year   \n",
       "1     Male   43                1         28.0                   0   > 2 Years   \n",
       "2   Female   25                1         14.0                   1    < 1 Year   \n",
       "3   Female   35                1          1.0                   0    1-2 Year   \n",
       "4   Female   36                1         15.0                   1    1-2 Year   \n",
       "\n",
       "   Vehicle_Damage  Annual_Premium  Policy_Sales_Channel  Vintage  Response  \n",
       "id                                                                          \n",
       "0             Yes         65101.0                 124.0      187         0  \n",
       "1             Yes         58911.0                  26.0      288         1  \n",
       "2              No         38043.0                 152.0      254         0  \n",
       "3             Yes          2630.0                 156.0       76         0  \n",
       "4              No         31951.0                 152.0      294         0  "
      ]
     },
     "execution_count": 2,
     "metadata": {},
     "output_type": "execute_result"
    }
   ],
   "source": [
    "# Read the data\n",
    "train_df = pd.read_csv('train.csv', index_col='id')\n",
    "test_df = pd.read_csv('test.csv', index_col='id')\n",
    "#original_df = pd.read_csv('/kaggle/input/health-insurance-cross-sell-prediction/train.csv', index_col=[0])\n",
    "\n",
    "train_df.head()"
   ]
  },
  {
   "cell_type": "code",
   "execution_count": 3,
   "id": "451f62da",
   "metadata": {
    "execution": {
     "iopub.execute_input": "2024-07-14T15:22:31.284259Z",
     "iopub.status.busy": "2024-07-14T15:22:31.283947Z",
     "iopub.status.idle": "2024-07-14T15:22:31.288676Z",
     "shell.execute_reply": "2024-07-14T15:22:31.287879Z"
    },
    "papermill": {
     "duration": 0.021123,
     "end_time": "2024-07-14T15:22:31.290959",
     "exception": false,
     "start_time": "2024-07-14T15:22:31.269836",
     "status": "completed"
    },
    "tags": []
   },
   "outputs": [
    {
     "name": "stdout",
     "output_type": "stream",
     "text": [
      "(11504798, 11)\n",
      "(7669866, 10)\n"
     ]
    }
   ],
   "source": [
    "print(train_df.shape)\n",
    "print(test_df.shape)\n",
    "#print(original_df.shape)"
   ]
  },
  {
   "cell_type": "code",
   "execution_count": 4,
   "id": "83153909",
   "metadata": {
    "execution": {
     "iopub.execute_input": "2024-07-14T15:22:31.319555Z",
     "iopub.status.busy": "2024-07-14T15:22:31.319261Z",
     "iopub.status.idle": "2024-07-14T15:22:31.335646Z",
     "shell.execute_reply": "2024-07-14T15:22:31.334672Z"
    },
    "papermill": {
     "duration": 0.03343,
     "end_time": "2024-07-14T15:22:31.337721",
     "exception": false,
     "start_time": "2024-07-14T15:22:31.304291",
     "status": "completed"
    },
    "tags": []
   },
   "outputs": [
    {
     "name": "stdout",
     "output_type": "stream",
     "text": [
      "<class 'pandas.core.frame.DataFrame'>\n",
      "Index: 11504798 entries, 0 to 11504797\n",
      "Data columns (total 11 columns):\n",
      " #   Column                Dtype  \n",
      "---  ------                -----  \n",
      " 0   Gender                object \n",
      " 1   Age                   int64  \n",
      " 2   Driving_License       int64  \n",
      " 3   Region_Code           float64\n",
      " 4   Previously_Insured    int64  \n",
      " 5   Vehicle_Age           object \n",
      " 6   Vehicle_Damage        object \n",
      " 7   Annual_Premium        float64\n",
      " 8   Policy_Sales_Channel  float64\n",
      " 9   Vintage               int64  \n",
      " 10  Response              int64  \n",
      "dtypes: float64(3), int64(5), object(3)\n",
      "memory usage: 1.0+ GB\n"
     ]
    }
   ],
   "source": [
    "train_df.info()"
   ]
  },
  {
   "cell_type": "code",
   "execution_count": 5,
   "id": "781300df",
   "metadata": {
    "execution": {
     "iopub.execute_input": "2024-07-14T15:22:31.365635Z",
     "iopub.status.busy": "2024-07-14T15:22:31.365339Z",
     "iopub.status.idle": "2024-07-14T15:22:31.374666Z",
     "shell.execute_reply": "2024-07-14T15:22:31.373736Z"
    },
    "papermill": {
     "duration": 0.025419,
     "end_time": "2024-07-14T15:22:31.376634",
     "exception": false,
     "start_time": "2024-07-14T15:22:31.351215",
     "status": "completed"
    },
    "tags": []
   },
   "outputs": [],
   "source": [
    "#This function reduces memory usage. Reference: https://www.kaggle.com/code/jmascacibar/optimizing-memory-usage-with-insurance-cross-sell/notebook\n",
    "def shrink_and_dummify(df):\n",
    "    df[\"Vehicle_Age\"] = df[\"Vehicle_Age\"].replace({\"1-2 Year\": 1, \"< 1 Year\": 0, \"> 2 Years\": 2}).astype('int8')\n",
    "    df['Gender'] = df['Gender'].replace({'Male': 0, 'Female': 1}).astype('int8')\n",
    "    df['Vehicle_Damage'] = df['Vehicle_Damage'].replace({'No': 0, 'Yes': 1}).astype('int8')\n",
    "    df['Age'] = df['Age'].astype('int8')\n",
    "    df['Driving_License'] = df['Driving_License'].astype('int8')\n",
    "    df['Region_Code'] = df['Region_Code'].astype('int8')\n",
    "    df['Previously_Insured'] = df['Previously_Insured'].astype('int8')\n",
    "    df['Annual_Premium'] = df['Annual_Premium'].astype('int32')\n",
    "    df['Policy_Sales_Channel'] = df['Policy_Sales_Channel'].astype('int16')\n",
    "    df['Vintage'] = df['Vintage'].astype('int16')\n",
    "    \n",
    "    if 'Response' in df.columns:\n",
    "        df['Response'] = df['Response'].astype('int8')\n",
    "    \n",
    "    return df"
   ]
  },
  {
   "cell_type": "code",
   "execution_count": 6,
   "id": "694670a2",
   "metadata": {
    "execution": {
     "iopub.execute_input": "2024-07-14T15:22:31.405000Z",
     "iopub.status.busy": "2024-07-14T15:22:31.404334Z",
     "iopub.status.idle": "2024-07-14T15:23:10.527880Z",
     "shell.execute_reply": "2024-07-14T15:23:10.526927Z"
    },
    "papermill": {
     "duration": 39.140281,
     "end_time": "2024-07-14T15:23:10.530306",
     "exception": false,
     "start_time": "2024-07-14T15:22:31.390025",
     "status": "completed"
    },
    "tags": []
   },
   "outputs": [],
   "source": [
    "train_df = shrink_and_dummify(train_df)\n",
    "test_df = shrink_and_dummify(test_df)"
   ]
  },
  {
   "cell_type": "code",
   "execution_count": 7,
   "id": "56ed8094",
   "metadata": {},
   "outputs": [
    {
     "name": "stdout",
     "output_type": "stream",
     "text": [
      "<class 'pandas.core.frame.DataFrame'>\n",
      "Index: 11504798 entries, 0 to 11504797\n",
      "Data columns (total 11 columns):\n",
      " #   Column                Dtype\n",
      "---  ------                -----\n",
      " 0   Gender                int8 \n",
      " 1   Age                   int8 \n",
      " 2   Driving_License       int8 \n",
      " 3   Region_Code           int8 \n",
      " 4   Previously_Insured    int8 \n",
      " 5   Vehicle_Age           int8 \n",
      " 6   Vehicle_Damage        int8 \n",
      " 7   Annual_Premium        int32\n",
      " 8   Policy_Sales_Channel  int16\n",
      " 9   Vintage               int16\n",
      " 10  Response              int8 \n",
      "dtypes: int16(2), int32(1), int8(8)\n",
      "memory usage: 263.3 MB\n"
     ]
    }
   ],
   "source": [
    "train_df.info()"
   ]
  },
  {
   "cell_type": "markdown",
   "id": "e9b19266",
   "metadata": {
    "papermill": {
     "duration": 0.01321,
     "end_time": "2024-07-14T15:23:10.557232",
     "exception": false,
     "start_time": "2024-07-14T15:23:10.544022",
     "status": "completed"
    },
    "tags": []
   },
   "source": [
    "<a id = \"3\"></a><br>\n",
    "## Descpriptive statistics"
   ]
  },
  {
   "cell_type": "code",
   "execution_count": 8,
   "id": "d78c8ba5",
   "metadata": {
    "execution": {
     "iopub.execute_input": "2024-07-14T15:23:10.585381Z",
     "iopub.status.busy": "2024-07-14T15:23:10.584690Z",
     "iopub.status.idle": "2024-07-14T15:23:13.439975Z",
     "shell.execute_reply": "2024-07-14T15:23:13.439135Z"
    },
    "papermill": {
     "duration": 2.871766,
     "end_time": "2024-07-14T15:23:13.442276",
     "exception": false,
     "start_time": "2024-07-14T15:23:10.570510",
     "status": "completed"
    },
    "tags": []
   },
   "outputs": [
    {
     "data": {
      "text/html": [
       "<div>\n",
       "<style scoped>\n",
       "    .dataframe tbody tr th:only-of-type {\n",
       "        vertical-align: middle;\n",
       "    }\n",
       "\n",
       "    .dataframe tbody tr th {\n",
       "        vertical-align: top;\n",
       "    }\n",
       "\n",
       "    .dataframe thead th {\n",
       "        text-align: right;\n",
       "    }\n",
       "</style>\n",
       "<table border=\"1\" class=\"dataframe\">\n",
       "  <thead>\n",
       "    <tr style=\"text-align: right;\">\n",
       "      <th></th>\n",
       "      <th>count</th>\n",
       "      <th>mean</th>\n",
       "      <th>std</th>\n",
       "      <th>min</th>\n",
       "      <th>25%</th>\n",
       "      <th>50%</th>\n",
       "      <th>75%</th>\n",
       "      <th>max</th>\n",
       "    </tr>\n",
       "  </thead>\n",
       "  <tbody>\n",
       "    <tr>\n",
       "      <th>Gender</th>\n",
       "      <td>11504798.0</td>\n",
       "      <td>0.458649</td>\n",
       "      <td>0.498287</td>\n",
       "      <td>0.0</td>\n",
       "      <td>0.0</td>\n",
       "      <td>0.0</td>\n",
       "      <td>1.0</td>\n",
       "      <td>1.0</td>\n",
       "    </tr>\n",
       "    <tr>\n",
       "      <th>Age</th>\n",
       "      <td>11504798.0</td>\n",
       "      <td>38.383563</td>\n",
       "      <td>14.993459</td>\n",
       "      <td>20.0</td>\n",
       "      <td>24.0</td>\n",
       "      <td>36.0</td>\n",
       "      <td>49.0</td>\n",
       "      <td>85.0</td>\n",
       "    </tr>\n",
       "    <tr>\n",
       "      <th>Driving_License</th>\n",
       "      <td>11504798.0</td>\n",
       "      <td>0.998022</td>\n",
       "      <td>0.044431</td>\n",
       "      <td>0.0</td>\n",
       "      <td>1.0</td>\n",
       "      <td>1.0</td>\n",
       "      <td>1.0</td>\n",
       "      <td>1.0</td>\n",
       "    </tr>\n",
       "    <tr>\n",
       "      <th>Region_Code</th>\n",
       "      <td>11504798.0</td>\n",
       "      <td>26.418690</td>\n",
       "      <td>12.991590</td>\n",
       "      <td>0.0</td>\n",
       "      <td>15.0</td>\n",
       "      <td>28.0</td>\n",
       "      <td>35.0</td>\n",
       "      <td>52.0</td>\n",
       "    </tr>\n",
       "    <tr>\n",
       "      <th>Previously_Insured</th>\n",
       "      <td>11504798.0</td>\n",
       "      <td>0.462997</td>\n",
       "      <td>0.498629</td>\n",
       "      <td>0.0</td>\n",
       "      <td>0.0</td>\n",
       "      <td>0.0</td>\n",
       "      <td>1.0</td>\n",
       "      <td>1.0</td>\n",
       "    </tr>\n",
       "    <tr>\n",
       "      <th>Vehicle_Age</th>\n",
       "      <td>11504798.0</td>\n",
       "      <td>0.603107</td>\n",
       "      <td>0.567856</td>\n",
       "      <td>0.0</td>\n",
       "      <td>0.0</td>\n",
       "      <td>1.0</td>\n",
       "      <td>1.0</td>\n",
       "      <td>2.0</td>\n",
       "    </tr>\n",
       "    <tr>\n",
       "      <th>Vehicle_Damage</th>\n",
       "      <td>11504798.0</td>\n",
       "      <td>0.502680</td>\n",
       "      <td>0.499993</td>\n",
       "      <td>0.0</td>\n",
       "      <td>0.0</td>\n",
       "      <td>1.0</td>\n",
       "      <td>1.0</td>\n",
       "      <td>1.0</td>\n",
       "    </tr>\n",
       "    <tr>\n",
       "      <th>Annual_Premium</th>\n",
       "      <td>11504798.0</td>\n",
       "      <td>30461.370411</td>\n",
       "      <td>16454.745205</td>\n",
       "      <td>2630.0</td>\n",
       "      <td>25277.0</td>\n",
       "      <td>31824.0</td>\n",
       "      <td>39451.0</td>\n",
       "      <td>540165.0</td>\n",
       "    </tr>\n",
       "    <tr>\n",
       "      <th>Policy_Sales_Channel</th>\n",
       "      <td>11504798.0</td>\n",
       "      <td>112.425442</td>\n",
       "      <td>54.035708</td>\n",
       "      <td>1.0</td>\n",
       "      <td>29.0</td>\n",
       "      <td>151.0</td>\n",
       "      <td>152.0</td>\n",
       "      <td>163.0</td>\n",
       "    </tr>\n",
       "    <tr>\n",
       "      <th>Vintage</th>\n",
       "      <td>11504798.0</td>\n",
       "      <td>163.897744</td>\n",
       "      <td>79.979531</td>\n",
       "      <td>10.0</td>\n",
       "      <td>99.0</td>\n",
       "      <td>166.0</td>\n",
       "      <td>232.0</td>\n",
       "      <td>299.0</td>\n",
       "    </tr>\n",
       "    <tr>\n",
       "      <th>Response</th>\n",
       "      <td>11504798.0</td>\n",
       "      <td>0.122997</td>\n",
       "      <td>0.328434</td>\n",
       "      <td>0.0</td>\n",
       "      <td>0.0</td>\n",
       "      <td>0.0</td>\n",
       "      <td>0.0</td>\n",
       "      <td>1.0</td>\n",
       "    </tr>\n",
       "  </tbody>\n",
       "</table>\n",
       "</div>"
      ],
      "text/plain": [
       "                           count          mean           std     min      25%  \\\n",
       "Gender                11504798.0      0.458649      0.498287     0.0      0.0   \n",
       "Age                   11504798.0     38.383563     14.993459    20.0     24.0   \n",
       "Driving_License       11504798.0      0.998022      0.044431     0.0      1.0   \n",
       "Region_Code           11504798.0     26.418690     12.991590     0.0     15.0   \n",
       "Previously_Insured    11504798.0      0.462997      0.498629     0.0      0.0   \n",
       "Vehicle_Age           11504798.0      0.603107      0.567856     0.0      0.0   \n",
       "Vehicle_Damage        11504798.0      0.502680      0.499993     0.0      0.0   \n",
       "Annual_Premium        11504798.0  30461.370411  16454.745205  2630.0  25277.0   \n",
       "Policy_Sales_Channel  11504798.0    112.425442     54.035708     1.0     29.0   \n",
       "Vintage               11504798.0    163.897744     79.979531    10.0     99.0   \n",
       "Response              11504798.0      0.122997      0.328434     0.0      0.0   \n",
       "\n",
       "                          50%      75%       max  \n",
       "Gender                    0.0      1.0       1.0  \n",
       "Age                      36.0     49.0      85.0  \n",
       "Driving_License           1.0      1.0       1.0  \n",
       "Region_Code              28.0     35.0      52.0  \n",
       "Previously_Insured        0.0      1.0       1.0  \n",
       "Vehicle_Age               1.0      1.0       2.0  \n",
       "Vehicle_Damage            1.0      1.0       1.0  \n",
       "Annual_Premium        31824.0  39451.0  540165.0  \n",
       "Policy_Sales_Channel    151.0    152.0     163.0  \n",
       "Vintage                 166.0    232.0     299.0  \n",
       "Response                  0.0      0.0       1.0  "
      ]
     },
     "execution_count": 8,
     "metadata": {},
     "output_type": "execute_result"
    }
   ],
   "source": [
    "#numerical feature descriptive statistics\n",
    "\n",
    "train_df.describe().T"
   ]
  },
  {
   "cell_type": "code",
   "execution_count": 9,
   "id": "3a0d2924",
   "metadata": {
    "execution": {
     "iopub.execute_input": "2024-07-14T15:23:13.470807Z",
     "iopub.status.busy": "2024-07-14T15:23:13.470540Z",
     "iopub.status.idle": "2024-07-14T15:23:13.980994Z",
     "shell.execute_reply": "2024-07-14T15:23:13.980173Z"
    },
    "papermill": {
     "duration": 0.527763,
     "end_time": "2024-07-14T15:23:13.983823",
     "exception": false,
     "start_time": "2024-07-14T15:23:13.456060",
     "status": "completed"
    },
    "tags": []
   },
   "outputs": [
    {
     "data": {
      "image/png": "[encoded data removed]",
      "text/plain": [
       "<Figure size 1000x1000 with 1 Axes>"
      ]
     },
     "metadata": {},
     "output_type": "display_data"
    }
   ],
   "source": [
    "#Target frequency\n",
    "\n",
    "plt.figure(figsize=(10, 10))\n",
    "palette_color = sns.color_palette('pastel')\n",
    "explode = [0.1 for _ in range(train_df['Response'].nunique())]\n",
    "\n",
    "# Plotting\n",
    "train_df.groupby('Response')['Response'].count().plot.pie(\n",
    "    colors=palette_color,\n",
    "    explode=explode,\n",
    "    autopct=\"%1.1f%%\",\n",
    "    shadow=True,  # Adding shadow for better visibility\n",
    "    startangle=140,  # Start angle for better alignment\n",
    "    textprops={'fontsize': 14},  # Adjust text size\n",
    "    wedgeprops={'edgecolor': 'black', 'linewidth': 1.5}  # Adding edge color and width\n",
    ")\n",
    "\n",
    "# Adding a title\n",
    "plt.title('Target Distribution', fontsize=18, weight='bold')\n",
    "\n",
    "# Equal aspect ratio ensures that pie is drawn as a circle.\n",
    "plt.axis('equal')\n",
    "\n",
    "# Displaying the plot\n",
    "plt.show()"
   ]
  },
  {
   "cell_type": "markdown",
   "id": "59e7962e",
   "metadata": {
    "papermill": {
     "duration": 0.014429,
     "end_time": "2024-07-14T15:23:14.013054",
     "exception": false,
     "start_time": "2024-07-14T15:23:13.998625",
     "status": "completed"
    },
    "tags": []
   },
   "source": [
    "## Grouping features for preprocessing purposes"
   ]
  },
  {
   "cell_type": "code",
   "execution_count": 10,
   "id": "8c120f5f",
   "metadata": {
    "execution": {
     "iopub.execute_input": "2024-07-14T15:23:14.043368Z",
     "iopub.status.busy": "2024-07-14T15:23:14.043053Z",
     "iopub.status.idle": "2024-07-14T15:23:14.579963Z",
     "shell.execute_reply": "2024-07-14T15:23:14.579039Z"
    },
    "papermill": {
     "duration": 0.554612,
     "end_time": "2024-07-14T15:23:14.582178",
     "exception": false,
     "start_time": "2024-07-14T15:23:14.027566",
     "status": "completed"
    },
    "tags": []
   },
   "outputs": [
    {
     "data": {
      "text/plain": [
       "Gender                      2\n",
       "Driving_License             2\n",
       "Previously_Insured          2\n",
       "Vehicle_Damage              2\n",
       "Response                    2\n",
       "Vehicle_Age                 3\n",
       "Region_Code                53\n",
       "Age                        66\n",
       "Policy_Sales_Channel      152\n",
       "Vintage                   290\n",
       "Annual_Premium          51728\n",
       "dtype: int64"
      ]
     },
     "execution_count": 10,
     "metadata": {},
     "output_type": "execute_result"
    }
   ],
   "source": [
    "train_df.nunique().sort_values()"
   ]
  },
  {
   "cell_type": "code",
   "execution_count": 11,
   "id": "e960e3a5",
   "metadata": {
    "execution": {
     "iopub.execute_input": "2024-07-14T15:23:14.613797Z",
     "iopub.status.busy": "2024-07-14T15:23:14.613050Z",
     "iopub.status.idle": "2024-07-14T15:23:14.618492Z",
     "shell.execute_reply": "2024-07-14T15:23:14.617666Z"
    },
    "papermill": {
     "duration": 0.023181,
     "end_time": "2024-07-14T15:23:14.620422",
     "exception": false,
     "start_time": "2024-07-14T15:23:14.597241",
     "status": "completed"
    },
    "tags": []
   },
   "outputs": [],
   "source": [
    "# Store numerical and categorical features to different lists for visualization purposes\n",
    "feature_list = [feature for feature in train_df.columns if not feature  == \"Response\"]\n",
    "\n",
    "target = \"Response\"\n",
    "\n",
    "descrete_features = ['Previously_Insured','Driving_License', 'Gender', 'Vehicle_Damage', 'Vehicle_Age']\n",
    "\n",
    "\n",
    "continuous_features = list(set(feature_list) - set(descrete_features))\n",
    "\n",
    "assert feature_list.sort() == (continuous_features + descrete_features).sort()"
   ]
  },
  {
   "cell_type": "markdown",
   "id": "e504006f",
   "metadata": {
    "papermill": {
     "duration": 0.014585,
     "end_time": "2024-07-14T15:23:14.650197",
     "exception": false,
     "start_time": "2024-07-14T15:23:14.635612",
     "status": "completed"
    },
    "tags": []
   },
   "source": [
    "<a id = \"4\"></a><br>\n",
    "# Exploratory Data Analysis"
   ]
  },
  {
   "cell_type": "code",
   "execution_count": 12,
   "id": "6c090832",
   "metadata": {
    "execution": {
     "iopub.execute_input": "2024-07-14T15:23:14.681284Z",
     "iopub.status.busy": "2024-07-14T15:23:14.680637Z",
     "iopub.status.idle": "2024-07-14T15:23:15.139649Z",
     "shell.execute_reply": "2024-07-14T15:23:15.138524Z"
    },
    "papermill": {
     "duration": 0.477276,
     "end_time": "2024-07-14T15:23:15.142090",
     "exception": false,
     "start_time": "2024-07-14T15:23:14.664814",
     "status": "completed"
    },
    "tags": []
   },
   "outputs": [],
   "source": [
    "eda_df = train_df.sample(frac= 0.01)"
   ]
  },
  {
   "cell_type": "code",
   "execution_count": 13,
   "id": "2fe44820",
   "metadata": {
    "execution": {
     "iopub.execute_input": "2024-07-14T15:23:15.174505Z",
     "iopub.status.busy": "2024-07-14T15:23:15.173707Z",
     "iopub.status.idle": "2024-07-14T15:23:16.524371Z",
     "shell.execute_reply": "2024-07-14T15:23:16.523459Z"
    },
    "papermill": {
     "duration": 1.369245,
     "end_time": "2024-07-14T15:23:16.526498",
     "exception": false,
     "start_time": "2024-07-14T15:23:15.157253",
     "status": "completed"
    },
    "tags": []
   },
   "outputs": [
    {
     "data": {
      "image/png": "[encoded data removed]",
      "text/plain": [
       "<Figure size 3000x2000 with 6 Axes>"
      ]
     },
     "metadata": {},
     "output_type": "display_data"
    }
   ],
   "source": [
    "fig, ax = plt.subplots(2, 3, figsize=(30, 20))\n",
    "for var, subplot in zip(continuous_features, ax.flatten()):\n",
    "    sns.boxplot(x='Response', y=var, data=eda_df, ax=subplot, palette='Set3')"
   ]
  },
  {
   "cell_type": "code",
   "execution_count": 14,
   "id": "a7922525",
   "metadata": {
    "execution": {
     "iopub.execute_input": "2024-07-14T15:23:16.560329Z",
     "iopub.status.busy": "2024-07-14T15:23:16.560007Z",
     "iopub.status.idle": "2024-07-14T15:23:21.330855Z",
     "shell.execute_reply": "2024-07-14T15:23:21.329927Z"
    },
    "papermill": {
     "duration": 4.790411,
     "end_time": "2024-07-14T15:23:21.333077",
     "exception": false,
     "start_time": "2024-07-14T15:23:16.542666",
     "status": "completed"
    },
    "tags": []
   },
   "outputs": [
    {
     "data": {
      "image/png": "[encoded data removed]",
      "text/plain": [
       "<Figure size 3000x2000 with 6 Axes>"
      ]
     },
     "metadata": {},
     "output_type": "display_data"
    }
   ],
   "source": [
    "fig, ax = plt.subplots(2, 3, figsize=(30, 20))\n",
    "for var, subplot in zip(descrete_features, ax.flatten()):\n",
    "    sns.barplot(x= var, y= 'Response', data=eda_df, ax=subplot, palette='Set3')"
   ]
  },
  {
   "cell_type": "code",
   "execution_count": 15,
   "id": "c253ff7e",
   "metadata": {
    "execution": {
     "iopub.execute_input": "2024-07-14T15:23:21.369461Z",
     "iopub.status.busy": "2024-07-14T15:23:21.369176Z",
     "iopub.status.idle": "2024-07-14T15:23:27.062443Z",
     "shell.execute_reply": "2024-07-14T15:23:27.061533Z"
    },
    "papermill": {
     "duration": 5.713709,
     "end_time": "2024-07-14T15:23:27.064548",
     "exception": false,
     "start_time": "2024-07-14T15:23:21.350839",
     "status": "completed"
    },
    "tags": []
   },
   "outputs": [
    {
     "data": {
      "text/html": [
       "<style type=\"text/css\">\n",
       "#T_38b2b_row0_col0 {\n",
       "  background-color: #ff00ff;\n",
       "  color: #f1f1f1;\n",
       "}\n",
       "#T_38b2b_row1_col0 {\n",
       "  background-color: #fa05ff;\n",
       "  color: #f1f1f1;\n",
       "}\n",
       "#T_38b2b_row2_col0 {\n",
       "  background-color: #6c93ff;\n",
       "  color: #f1f1f1;\n",
       "}\n",
       "#T_38b2b_row3_col0 {\n",
       "  background-color: #47b8ff;\n",
       "  color: #000000;\n",
       "}\n",
       "#T_38b2b_row4_col0 {\n",
       "  background-color: #43bcff;\n",
       "  color: #000000;\n",
       "}\n",
       "#T_38b2b_row5_col0 {\n",
       "  background-color: #1fe0ff;\n",
       "  color: #000000;\n",
       "}\n",
       "#T_38b2b_row6_col0 {\n",
       "  background-color: #15eaff;\n",
       "  color: #000000;\n",
       "}\n",
       "#T_38b2b_row7_col0 {\n",
       "  background-color: #0bf4ff;\n",
       "  color: #000000;\n",
       "}\n",
       "#T_38b2b_row8_col0 {\n",
       "  background-color: #06f9ff;\n",
       "  color: #000000;\n",
       "}\n",
       "#T_38b2b_row9_col0 {\n",
       "  background-color: #00ffff;\n",
       "  color: #000000;\n",
       "}\n",
       "</style>\n",
       "<table id=\"T_38b2b\">\n",
       "  <thead>\n",
       "    <tr>\n",
       "      <th class=\"blank level0\" >&nbsp;</th>\n",
       "      <th id=\"T_38b2b_level0_col0\" class=\"col_heading level0 col0\" >Numerical_Feature_MI</th>\n",
       "    </tr>\n",
       "  </thead>\n",
       "  <tbody>\n",
       "    <tr>\n",
       "      <th id=\"T_38b2b_level0_row0\" class=\"row_heading level0 row0\" >Previously_Insured</th>\n",
       "      <td id=\"T_38b2b_row0_col0\" class=\"data row0 col0\" >0.095592</td>\n",
       "    </tr>\n",
       "    <tr>\n",
       "      <th id=\"T_38b2b_level0_row1\" class=\"row_heading level0 row1\" >Vehicle_Damage</th>\n",
       "      <td id=\"T_38b2b_row1_col0\" class=\"data row1 col0\" >0.093712</td>\n",
       "    </tr>\n",
       "    <tr>\n",
       "      <th id=\"T_38b2b_level0_row2\" class=\"row_heading level0 row2\" >Policy_Sales_Channel</th>\n",
       "      <td id=\"T_38b2b_row2_col0\" class=\"data row2 col0\" >0.047633</td>\n",
       "    </tr>\n",
       "    <tr>\n",
       "      <th id=\"T_38b2b_level0_row3\" class=\"row_heading level0 row3\" >Vehicle_Age</th>\n",
       "      <td id=\"T_38b2b_row3_col0\" class=\"data row3 col0\" >0.035564</td>\n",
       "    </tr>\n",
       "    <tr>\n",
       "      <th id=\"T_38b2b_level0_row4\" class=\"row_heading level0 row4\" >Age</th>\n",
       "      <td id=\"T_38b2b_row4_col0\" class=\"data row4 col0\" >0.034439</td>\n",
       "    </tr>\n",
       "    <tr>\n",
       "      <th id=\"T_38b2b_level0_row5\" class=\"row_heading level0 row5\" >Annual_Premium</th>\n",
       "      <td id=\"T_38b2b_row5_col0\" class=\"data row5 col0\" >0.022659</td>\n",
       "    </tr>\n",
       "    <tr>\n",
       "      <th id=\"T_38b2b_level0_row6\" class=\"row_heading level0 row6\" >Driving_License</th>\n",
       "      <td id=\"T_38b2b_row6_col0\" class=\"data row6 col0\" >0.019470</td>\n",
       "    </tr>\n",
       "    <tr>\n",
       "      <th id=\"T_38b2b_level0_row7\" class=\"row_heading level0 row7\" >Gender</th>\n",
       "      <td id=\"T_38b2b_row7_col0\" class=\"data row7 col0\" >0.016199</td>\n",
       "    </tr>\n",
       "    <tr>\n",
       "      <th id=\"T_38b2b_level0_row8\" class=\"row_heading level0 row8\" >Region_Code</th>\n",
       "      <td id=\"T_38b2b_row8_col0\" class=\"data row8 col0\" >0.014620</td>\n",
       "    </tr>\n",
       "    <tr>\n",
       "      <th id=\"T_38b2b_level0_row9\" class=\"row_heading level0 row9\" >Vintage</th>\n",
       "      <td id=\"T_38b2b_row9_col0\" class=\"data row9 col0\" >0.012426</td>\n",
       "    </tr>\n",
       "  </tbody>\n",
       "</table>\n"
      ],
      "text/plain": [
       "<pandas.io.formats.style.Styler at 0x2143f9bbd90>"
      ]
     },
     "execution_count": 15,
     "metadata": {},
     "output_type": "execute_result"
    }
   ],
   "source": [
    "# determine the mutual information for features\n",
    "\n",
    "mutual_df = eda_df[feature_list]\n",
    "y_sampled = eda_df.Response\n",
    "mutual_info = mutual_info_classif(mutual_df, y_sampled, random_state=random_state)\n",
    "\n",
    "mutual_info = pd.Series(mutual_info)\n",
    "mutual_info.index = mutual_df.columns\n",
    "mutual_info = pd.DataFrame(mutual_info.sort_values(ascending=False), columns = [\"Numerical_Feature_MI\"] )\n",
    "mutual_info.style.background_gradient(\"cool\")\n"
   ]
  },
  {
   "cell_type": "markdown",
   "id": "78f186a3",
   "metadata": {
    "papermill": {
     "duration": 0.059227,
     "end_time": "2024-07-14T15:23:27.213232",
     "exception": false,
     "start_time": "2024-07-14T15:23:27.154005",
     "status": "completed"
    },
    "tags": []
   },
   "source": [
    "<a id = \"7\"></a><br>\n",
    "# Modeling and hyperparameter tuning"
   ]
  },
  {
   "cell_type": "code",
   "execution_count": 16,
   "id": "de05ed8d",
   "metadata": {
    "execution": {
     "iopub.execute_input": "2024-07-14T15:23:27.248924Z",
     "iopub.status.busy": "2024-07-14T15:23:27.248553Z",
     "iopub.status.idle": "2024-07-14T15:23:27.253053Z",
     "shell.execute_reply": "2024-07-14T15:23:27.252264Z"
    },
    "papermill": {
     "duration": 0.024519,
     "end_time": "2024-07-14T15:23:27.254912",
     "exception": false,
     "start_time": "2024-07-14T15:23:27.230393",
     "status": "completed"
    },
    "tags": []
   },
   "outputs": [],
   "source": [
    "cv = StratifiedKFold(n_splits=5, shuffle=True, random_state=42)"
   ]
  },
  {
   "cell_type": "code",
   "execution_count": 17,
   "id": "d684d178",
   "metadata": {
    "execution": {
     "iopub.execute_input": "2024-07-14T15:23:27.290441Z",
     "iopub.status.busy": "2024-07-14T15:23:27.290169Z",
     "iopub.status.idle": "2024-07-14T15:23:27.307396Z",
     "shell.execute_reply": "2024-07-14T15:23:27.306553Z"
    },
    "papermill": {
     "duration": 0.037618,
     "end_time": "2024-07-14T15:23:27.309560",
     "exception": false,
     "start_time": "2024-07-14T15:23:27.271942",
     "status": "completed"
    },
    "tags": []
   },
   "outputs": [],
   "source": [
    "#A cross-validation function with early stopping. I used some crowdy code  to get the best iterations. If you have more elegant suggestions, please put the comment.\n",
    "\n",
    "def cross_validate_score(model, data: pd.DataFrame, cv=None, test_data: pd.DataFrame = None, label: str = 'Response', include_original: bool = True, original_data: pd.DataFrame = None):\n",
    "    if cv is None:\n",
    "        cv = StratifiedKFold(n_splits=5, shuffle=True, random_state=42)\n",
    "    if test_data is None:\n",
    "        raise ValueError(\"test_data must be provided\")\n",
    "    \n",
    "    X = data.copy()\n",
    "    y = X.pop(label)\n",
    "    \n",
    "    val_predictions = np.zeros(len(X))\n",
    "    test_predictions = np.zeros(len(test_data))\n",
    "    train_scores, val_scores = [], []\n",
    "    \n",
    "    for fold, (train_idx, val_idx) in enumerate(cv.split(X, y)):\n",
    "        X_train = X.iloc[train_idx].reset_index(drop=True)\n",
    "        y_train = y.iloc[train_idx].reset_index(drop=True)\n",
    "        X_val = X.iloc[val_idx].reset_index(drop=True)\n",
    "        y_val = y.iloc[val_idx].reset_index(drop=True)\n",
    "        \n",
    "        if include_original:\n",
    "            if original_data is None:\n",
    "                raise ValueError(\"original_data must be provided when include_original is True\")\n",
    "            X_train = pd.concat([original_data.drop(label, axis=1), X_train]).reset_index(drop=True)\n",
    "            y_train = pd.concat([original_data[label], y_train]).reset_index(drop=True)\n",
    "        \n",
    "        model_cloned = clone(model)\n",
    "        \n",
    "        if isinstance(model_cloned, XGBClassifier):\n",
    "            eval_set = [(X_val, y_val)]\n",
    "            model_cloned.fit(X_train, y_train, eval_set=eval_set, verbose=False)\n",
    "            # LGBMClassifierの初期化\n",
    "            #model_cloned.fit(X_train, y_train, eval_set=[(X_train, y_train), (X_val, y_val)],  verbose=True)\n",
    "            best_iteration    = model_cloned.best_iteration\n",
    "            train_preds_proba = model_cloned.predict_proba(X_train, iteration_range=(0, best_iteration))[:, 1]\n",
    "            val_preds_proba   = model_cloned.predict_proba(X_val, iteration_range=(0, best_iteration))[:, 1]\n",
    "            test_preds_proba  = model_cloned.predict_proba(test_data, iteration_range=(0, best_iteration))[:, 1]\n",
    "        elif isinstance(model_cloned, LGBMClassifier):\n",
    "            eval_set = [(X_val, y_val)]\n",
    "            model_cloned.fit(X_train, y_train, eval_set=eval_set, eval_metric='auc', callbacks=[early_stopping(50)])\n",
    "            best_iteration = model_cloned.best_iteration_\n",
    "            train_preds_proba = model_cloned.predict_proba(X_train, num_iteration=best_iteration)[:, 1]\n",
    "            val_preds_proba = model_cloned.predict_proba(X_val, num_iteration=best_iteration)[:, 1]\n",
    "            test_preds_proba = model_cloned.predict_proba(test_data, num_iteration=best_iteration)[:, 1]\n",
    "        elif isinstance(model_cloned, CatBoostClassifier):\n",
    "            model_cloned.fit(X_train, y_train, eval_set=(X_val, y_val), early_stopping_rounds=50, verbose=False)\n",
    "            best_iteration = model_cloned.get_best_iteration()\n",
    "            train_preds_proba = model_cloned.predict_proba(X_train)[:, 1]\n",
    "            val_preds_proba = model_cloned.predict_proba(X_val)[:, 1]\n",
    "            test_preds_proba = model_cloned.predict_proba(test_data)[:, 1]\n",
    "        else:\n",
    "            raise ValueError(\"Model type not supported for early stopping.\")\n",
    "        \n",
    "        val_predictions[val_idx] = val_preds_proba\n",
    "        train_scores.append(roc_auc_score(y_train, train_preds_proba))\n",
    "        val_scores.append(roc_auc_score(y_val, val_preds_proba))\n",
    "        \n",
    "        print(f'Fold {fold}: {val_scores[-1]:.5f}')\n",
    "        \n",
    "        test_predictions += test_preds_proba / cv.get_n_splits()\n",
    "    \n",
    "    print(f'Val Score: {np.mean(val_scores):.7f} ± {np.std(val_scores):.7f} | Train Score: {np.mean(train_scores):.7f} ± {np.std(train_scores):.7f} | {label}')\n",
    "    \n",
    "    return val_scores, val_predictions, test_predictions\n",
    "\n"
   ]
  },
  {
   "cell_type": "code",
   "execution_count": 18,
   "id": "175f01ea",
   "metadata": {
    "execution": {
     "iopub.execute_input": "2024-07-14T15:23:27.344995Z",
     "iopub.status.busy": "2024-07-14T15:23:27.344702Z",
     "iopub.status.idle": "2024-07-14T15:23:27.349552Z",
     "shell.execute_reply": "2024-07-14T15:23:27.348681Z"
    },
    "papermill": {
     "duration": 0.024714,
     "end_time": "2024-07-14T15:23:27.351438",
     "exception": false,
     "start_time": "2024-07-14T15:23:27.326724",
     "status": "completed"
    },
    "tags": []
   },
   "outputs": [],
   "source": [
    "cv_summary, oof_predictions, test_predictions = pd.DataFrame(), pd.DataFrame(), pd.DataFrame()"
   ]
  },
  {
   "cell_type": "code",
   "execution_count": 25,
   "id": "927abc0b",
   "metadata": {},
   "outputs": [
    {
     "data": {
      "text/html": [
       "<div>\n",
       "<style scoped>\n",
       "    .dataframe tbody tr th:only-of-type {\n",
       "        vertical-align: middle;\n",
       "    }\n",
       "\n",
       "    .dataframe tbody tr th {\n",
       "        vertical-align: top;\n",
       "    }\n",
       "\n",
       "    .dataframe thead th {\n",
       "        text-align: right;\n",
       "    }\n",
       "</style>\n",
       "<table border=\"1\" class=\"dataframe\">\n",
       "  <thead>\n",
       "    <tr style=\"text-align: right;\">\n",
       "      <th></th>\n",
       "    </tr>\n",
       "  </thead>\n",
       "  <tbody>\n",
       "  </tbody>\n",
       "</table>\n",
       "</div>"
      ],
      "text/plain": [
       "Empty DataFrame\n",
       "Columns: []\n",
       "Index: []"
      ]
     },
     "execution_count": 25,
     "metadata": {},
     "output_type": "execute_result"
    }
   ],
   "source": [
    "cv_summary"
   ]
  },
  {
   "cell_type": "markdown",
   "id": "b1035525",
   "metadata": {
    "execution": {
     "iopub.execute_input": "2024-07-05T12:28:33.403347Z",
     "iopub.status.busy": "2024-07-05T12:28:33.403050Z",
     "iopub.status.idle": "2024-07-05T12:28:33.413268Z",
     "shell.execute_reply": "2024-07-05T12:28:33.411505Z",
     "shell.execute_reply.started": "2024-07-05T12:28:33.403322Z"
    },
    "papermill": {
     "duration": 0.018617,
     "end_time": "2024-07-14T15:23:27.387024",
     "exception": false,
     "start_time": "2024-07-14T15:23:27.368407",
     "status": "completed"
    },
    "tags": []
   },
   "source": [
    "<a id = \"10\"></a><br>\n",
    "## XGboost"
   ]
  },
  {
   "cell_type": "code",
   "execution_count": 26,
   "id": "1f752ede",
   "metadata": {
    "execution": {
     "iopub.execute_input": "2024-07-14T15:23:27.422452Z",
     "iopub.status.busy": "2024-07-14T15:23:27.422194Z",
     "iopub.status.idle": "2024-07-14T15:23:27.427502Z",
     "shell.execute_reply": "2024-07-14T15:23:27.426650Z"
    },
    "papermill": {
     "duration": 0.025171,
     "end_time": "2024-07-14T15:23:27.429401",
     "exception": false,
     "start_time": "2024-07-14T15:23:27.404230",
     "status": "completed"
    },
    "tags": []
   },
   "outputs": [],
   "source": [
    "xgb_params = {\n",
    "    \n",
    "    'n_estimators': 10000,\n",
    "    'eta': 0.05,\n",
    "    'alpha':  0.2545607592482198,\n",
    "    'subsample': 0.8388163485383147, \n",
    "    'colsample_bytree': 0.2732499701466825, \n",
    "    'max_depth': 16,\n",
    "    'min_child_weight': 5,\n",
    "    'early_stopping_rounds':50,\n",
    "    'gamma': 0.0017688666476104672,\n",
    "    'eval_metric': 'auc',\n",
    "    'max_bin': 262143, #a weird max_bin, for reference: https://www.kaggle.com/competitions/playground-series-s4e7/discussion/516265   \n",
    "    'tree_method': 'gpu_hist',\n",
    "}\n",
    "\n",
    "\n",
    "\n",
    "\n",
    "xgb_tuned = XGBClassifier(**xgb_params, random_state=random_state)"
   ]
  },
  {
   "cell_type": "code",
   "execution_count": 27,
   "id": "38c35426",
   "metadata": {
    "execution": {
     "iopub.execute_input": "2024-07-14T15:23:27.464529Z",
     "iopub.status.busy": "2024-07-14T15:23:27.464281Z",
     "iopub.status.idle": "2024-07-14T16:23:34.511255Z",
     "shell.execute_reply": "2024-07-14T16:23:34.510312Z"
    },
    "papermill": {
     "duration": 3607.067105,
     "end_time": "2024-07-14T16:23:34.513565",
     "exception": false,
     "start_time": "2024-07-14T15:23:27.446460",
     "status": "completed"
    },
    "tags": []
   },
   "outputs": [
    {
     "name": "stdout",
     "output_type": "stream",
     "text": [
      "Fold 0: 0.89142\n",
      "Fold 1: 0.89115\n"
     ]
    },
    {
     "ename": "KeyboardInterrupt",
     "evalue": "",
     "output_type": "error",
     "traceback": [
      "\u001b[1;31m---------------------------------------------------------------------------\u001b[0m",
      "\u001b[1;31mKeyboardInterrupt\u001b[0m                         Traceback (most recent call last)",
      "File \u001b[1;32m<timed exec>:1\u001b[0m\n",
      "Cell \u001b[1;32mIn[23], line 32\u001b[0m, in \u001b[0;36mcross_validate_score\u001b[1;34m(model, data, cv, test_data, label, include_original, original_data)\u001b[0m\n\u001b[0;32m     30\u001b[0m \u001b[38;5;28;01mif\u001b[39;00m \u001b[38;5;28misinstance\u001b[39m(model_cloned, XGBClassifier):\n\u001b[0;32m     31\u001b[0m     eval_set \u001b[38;5;241m=\u001b[39m [(X_val, y_val)]\n\u001b[1;32m---> 32\u001b[0m     \u001b[43mmodel_cloned\u001b[49m\u001b[38;5;241;43m.\u001b[39;49m\u001b[43mfit\u001b[49m\u001b[43m(\u001b[49m\u001b[43mX_train\u001b[49m\u001b[43m,\u001b[49m\u001b[43m \u001b[49m\u001b[43my_train\u001b[49m\u001b[43m,\u001b[49m\u001b[43m \u001b[49m\u001b[43meval_set\u001b[49m\u001b[38;5;241;43m=\u001b[39;49m\u001b[43meval_set\u001b[49m\u001b[43m,\u001b[49m\u001b[43m \u001b[49m\u001b[43mverbose\u001b[49m\u001b[38;5;241;43m=\u001b[39;49m\u001b[38;5;28;43;01mFalse\u001b[39;49;00m\u001b[43m)\u001b[49m\n\u001b[0;32m     33\u001b[0m     \u001b[38;5;66;03m# LGBMClassifierの初期化\u001b[39;00m\n\u001b[0;32m     34\u001b[0m     \u001b[38;5;66;03m#model_cloned.fit(X_train, y_train, eval_set=[(X_train, y_train), (X_val, y_val)],  verbose=True)\u001b[39;00m\n\u001b[0;32m     35\u001b[0m     best_iteration    \u001b[38;5;241m=\u001b[39m model_cloned\u001b[38;5;241m.\u001b[39mbest_iteration\n",
      "File \u001b[1;32mc:\\Users\\hmhm0\\AppData\\Local\\Programs\\Python\\Python310\\lib\\site-packages\\xgboost\\core.py:726\u001b[0m, in \u001b[0;36mrequire_keyword_args.<locals>.throw_if.<locals>.inner_f\u001b[1;34m(*args, **kwargs)\u001b[0m\n\u001b[0;32m    724\u001b[0m \u001b[38;5;28;01mfor\u001b[39;00m k, arg \u001b[38;5;129;01min\u001b[39;00m \u001b[38;5;28mzip\u001b[39m(sig\u001b[38;5;241m.\u001b[39mparameters, args):\n\u001b[0;32m    725\u001b[0m     kwargs[k] \u001b[38;5;241m=\u001b[39m arg\n\u001b[1;32m--> 726\u001b[0m \u001b[38;5;28;01mreturn\u001b[39;00m func(\u001b[38;5;241m*\u001b[39m\u001b[38;5;241m*\u001b[39mkwargs)\n",
      "File \u001b[1;32mc:\\Users\\hmhm0\\AppData\\Local\\Programs\\Python\\Python310\\lib\\site-packages\\xgboost\\sklearn.py:1531\u001b[0m, in \u001b[0;36mXGBClassifier.fit\u001b[1;34m(self, X, y, sample_weight, base_margin, eval_set, verbose, xgb_model, sample_weight_eval_set, base_margin_eval_set, feature_weights)\u001b[0m\n\u001b[0;32m   1511\u001b[0m model, metric, params \u001b[38;5;241m=\u001b[39m \u001b[38;5;28mself\u001b[39m\u001b[38;5;241m.\u001b[39m_configure_fit(xgb_model, params)\n\u001b[0;32m   1512\u001b[0m train_dmatrix, evals \u001b[38;5;241m=\u001b[39m _wrap_evaluation_matrices(\n\u001b[0;32m   1513\u001b[0m     missing\u001b[38;5;241m=\u001b[39m\u001b[38;5;28mself\u001b[39m\u001b[38;5;241m.\u001b[39mmissing,\n\u001b[0;32m   1514\u001b[0m     X\u001b[38;5;241m=\u001b[39mX,\n\u001b[1;32m   (...)\u001b[0m\n\u001b[0;32m   1528\u001b[0m     feature_types\u001b[38;5;241m=\u001b[39m\u001b[38;5;28mself\u001b[39m\u001b[38;5;241m.\u001b[39mfeature_types,\n\u001b[0;32m   1529\u001b[0m )\n\u001b[1;32m-> 1531\u001b[0m \u001b[38;5;28mself\u001b[39m\u001b[38;5;241m.\u001b[39m_Booster \u001b[38;5;241m=\u001b[39m \u001b[43mtrain\u001b[49m\u001b[43m(\u001b[49m\n\u001b[0;32m   1532\u001b[0m \u001b[43m    \u001b[49m\u001b[43mparams\u001b[49m\u001b[43m,\u001b[49m\n\u001b[0;32m   1533\u001b[0m \u001b[43m    \u001b[49m\u001b[43mtrain_dmatrix\u001b[49m\u001b[43m,\u001b[49m\n\u001b[0;32m   1534\u001b[0m \u001b[43m    \u001b[49m\u001b[38;5;28;43mself\u001b[39;49m\u001b[38;5;241;43m.\u001b[39;49m\u001b[43mget_num_boosting_rounds\u001b[49m\u001b[43m(\u001b[49m\u001b[43m)\u001b[49m\u001b[43m,\u001b[49m\n\u001b[0;32m   1535\u001b[0m \u001b[43m    \u001b[49m\u001b[43mevals\u001b[49m\u001b[38;5;241;43m=\u001b[39;49m\u001b[43mevals\u001b[49m\u001b[43m,\u001b[49m\n\u001b[0;32m   1536\u001b[0m \u001b[43m    \u001b[49m\u001b[43mearly_stopping_rounds\u001b[49m\u001b[38;5;241;43m=\u001b[39;49m\u001b[38;5;28;43mself\u001b[39;49m\u001b[38;5;241;43m.\u001b[39;49m\u001b[43mearly_stopping_rounds\u001b[49m\u001b[43m,\u001b[49m\n\u001b[0;32m   1537\u001b[0m \u001b[43m    \u001b[49m\u001b[43mevals_result\u001b[49m\u001b[38;5;241;43m=\u001b[39;49m\u001b[43mevals_result\u001b[49m\u001b[43m,\u001b[49m\n\u001b[0;32m   1538\u001b[0m \u001b[43m    \u001b[49m\u001b[43mobj\u001b[49m\u001b[38;5;241;43m=\u001b[39;49m\u001b[43mobj\u001b[49m\u001b[43m,\u001b[49m\n\u001b[0;32m   1539\u001b[0m \u001b[43m    \u001b[49m\u001b[43mcustom_metric\u001b[49m\u001b[38;5;241;43m=\u001b[39;49m\u001b[43mmetric\u001b[49m\u001b[43m,\u001b[49m\n\u001b[0;32m   1540\u001b[0m \u001b[43m    \u001b[49m\u001b[43mverbose_eval\u001b[49m\u001b[38;5;241;43m=\u001b[39;49m\u001b[43mverbose\u001b[49m\u001b[43m,\u001b[49m\n\u001b[0;32m   1541\u001b[0m \u001b[43m    \u001b[49m\u001b[43mxgb_model\u001b[49m\u001b[38;5;241;43m=\u001b[39;49m\u001b[43mmodel\u001b[49m\u001b[43m,\u001b[49m\n\u001b[0;32m   1542\u001b[0m \u001b[43m    \u001b[49m\u001b[43mcallbacks\u001b[49m\u001b[38;5;241;43m=\u001b[39;49m\u001b[38;5;28;43mself\u001b[39;49m\u001b[38;5;241;43m.\u001b[39;49m\u001b[43mcallbacks\u001b[49m\u001b[43m,\u001b[49m\n\u001b[0;32m   1543\u001b[0m \u001b[43m\u001b[49m\u001b[43m)\u001b[49m\n\u001b[0;32m   1545\u001b[0m \u001b[38;5;28;01mif\u001b[39;00m \u001b[38;5;129;01mnot\u001b[39;00m callable(\u001b[38;5;28mself\u001b[39m\u001b[38;5;241m.\u001b[39mobjective):\n\u001b[0;32m   1546\u001b[0m     \u001b[38;5;28mself\u001b[39m\u001b[38;5;241m.\u001b[39mobjective \u001b[38;5;241m=\u001b[39m params[\u001b[38;5;124m\"\u001b[39m\u001b[38;5;124mobjective\u001b[39m\u001b[38;5;124m\"\u001b[39m]\n",
      "File \u001b[1;32mc:\\Users\\hmhm0\\AppData\\Local\\Programs\\Python\\Python310\\lib\\site-packages\\xgboost\\core.py:726\u001b[0m, in \u001b[0;36mrequire_keyword_args.<locals>.throw_if.<locals>.inner_f\u001b[1;34m(*args, **kwargs)\u001b[0m\n\u001b[0;32m    724\u001b[0m \u001b[38;5;28;01mfor\u001b[39;00m k, arg \u001b[38;5;129;01min\u001b[39;00m \u001b[38;5;28mzip\u001b[39m(sig\u001b[38;5;241m.\u001b[39mparameters, args):\n\u001b[0;32m    725\u001b[0m     kwargs[k] \u001b[38;5;241m=\u001b[39m arg\n\u001b[1;32m--> 726\u001b[0m \u001b[38;5;28;01mreturn\u001b[39;00m func(\u001b[38;5;241m*\u001b[39m\u001b[38;5;241m*\u001b[39mkwargs)\n",
      "File \u001b[1;32mc:\\Users\\hmhm0\\AppData\\Local\\Programs\\Python\\Python310\\lib\\site-packages\\xgboost\\training.py:181\u001b[0m, in \u001b[0;36mtrain\u001b[1;34m(params, dtrain, num_boost_round, evals, obj, feval, maximize, early_stopping_rounds, evals_result, verbose_eval, xgb_model, callbacks, custom_metric)\u001b[0m\n\u001b[0;32m    179\u001b[0m \u001b[38;5;28;01mif\u001b[39;00m cb_container\u001b[38;5;241m.\u001b[39mbefore_iteration(bst, i, dtrain, evals):\n\u001b[0;32m    180\u001b[0m     \u001b[38;5;28;01mbreak\u001b[39;00m\n\u001b[1;32m--> 181\u001b[0m \u001b[43mbst\u001b[49m\u001b[38;5;241;43m.\u001b[39;49m\u001b[43mupdate\u001b[49m\u001b[43m(\u001b[49m\u001b[43mdtrain\u001b[49m\u001b[43m,\u001b[49m\u001b[43m \u001b[49m\u001b[43miteration\u001b[49m\u001b[38;5;241;43m=\u001b[39;49m\u001b[43mi\u001b[49m\u001b[43m,\u001b[49m\u001b[43m \u001b[49m\u001b[43mfobj\u001b[49m\u001b[38;5;241;43m=\u001b[39;49m\u001b[43mobj\u001b[49m\u001b[43m)\u001b[49m\n\u001b[0;32m    182\u001b[0m \u001b[38;5;28;01mif\u001b[39;00m cb_container\u001b[38;5;241m.\u001b[39mafter_iteration(bst, i, dtrain, evals):\n\u001b[0;32m    183\u001b[0m     \u001b[38;5;28;01mbreak\u001b[39;00m\n",
      "File \u001b[1;32mc:\\Users\\hmhm0\\AppData\\Local\\Programs\\Python\\Python310\\lib\\site-packages\\xgboost\\core.py:2101\u001b[0m, in \u001b[0;36mBooster.update\u001b[1;34m(self, dtrain, iteration, fobj)\u001b[0m\n\u001b[0;32m   2097\u001b[0m \u001b[38;5;28mself\u001b[39m\u001b[38;5;241m.\u001b[39m_assign_dmatrix_features(dtrain)\n\u001b[0;32m   2099\u001b[0m \u001b[38;5;28;01mif\u001b[39;00m fobj \u001b[38;5;129;01mis\u001b[39;00m \u001b[38;5;28;01mNone\u001b[39;00m:\n\u001b[0;32m   2100\u001b[0m     _check_call(\n\u001b[1;32m-> 2101\u001b[0m         \u001b[43m_LIB\u001b[49m\u001b[38;5;241;43m.\u001b[39;49m\u001b[43mXGBoosterUpdateOneIter\u001b[49m\u001b[43m(\u001b[49m\n\u001b[0;32m   2102\u001b[0m \u001b[43m            \u001b[49m\u001b[38;5;28;43mself\u001b[39;49m\u001b[38;5;241;43m.\u001b[39;49m\u001b[43mhandle\u001b[49m\u001b[43m,\u001b[49m\u001b[43m \u001b[49m\u001b[43mctypes\u001b[49m\u001b[38;5;241;43m.\u001b[39;49m\u001b[43mc_int\u001b[49m\u001b[43m(\u001b[49m\u001b[43miteration\u001b[49m\u001b[43m)\u001b[49m\u001b[43m,\u001b[49m\u001b[43m \u001b[49m\u001b[43mdtrain\u001b[49m\u001b[38;5;241;43m.\u001b[39;49m\u001b[43mhandle\u001b[49m\n\u001b[0;32m   2103\u001b[0m \u001b[43m        \u001b[49m\u001b[43m)\u001b[49m\n\u001b[0;32m   2104\u001b[0m     )\n\u001b[0;32m   2105\u001b[0m \u001b[38;5;28;01melse\u001b[39;00m:\n\u001b[0;32m   2106\u001b[0m     pred \u001b[38;5;241m=\u001b[39m \u001b[38;5;28mself\u001b[39m\u001b[38;5;241m.\u001b[39mpredict(dtrain, output_margin\u001b[38;5;241m=\u001b[39m\u001b[38;5;28;01mTrue\u001b[39;00m, training\u001b[38;5;241m=\u001b[39m\u001b[38;5;28;01mTrue\u001b[39;00m)\n",
      "\u001b[1;31mKeyboardInterrupt\u001b[0m: "
     ]
    }
   ],
   "source": [
    "%%time\n",
    "cv_summary['xgb'], oof_predictions['xgb'], test_predictions['xgb'] = cross_validate_score(xgb_tuned, data=train_df, test_data=test_df, include_original=False)\n"
   ]
  },
  {
   "cell_type": "markdown",
   "id": "9b6e932d",
   "metadata": {
    "papermill": {
     "duration": 0.017514,
     "end_time": "2024-07-14T16:23:34.549106",
     "exception": false,
     "start_time": "2024-07-14T16:23:34.531592",
     "status": "completed"
    },
    "tags": []
   },
   "source": [
    "<a id = \"11\"></a><br>\n",
    "## Lightgbm"
   ]
  },
  {
   "cell_type": "code",
   "execution_count": 22,
   "id": "38ea1b4b",
   "metadata": {
    "execution": {
     "iopub.execute_input": "2024-07-14T16:23:34.585331Z",
     "iopub.status.busy": "2024-07-14T16:23:34.585012Z",
     "iopub.status.idle": "2024-07-14T16:23:34.590864Z",
     "shell.execute_reply": "2024-07-14T16:23:34.590006Z"
    },
    "papermill": {
     "duration": 0.026214,
     "end_time": "2024-07-14T16:23:34.592752",
     "exception": false,
     "start_time": "2024-07-14T16:23:34.566538",
     "status": "completed"
    },
    "tags": []
   },
   "outputs": [],
   "source": [
    "#reference: https://www.kaggle.com/code/martinapreusse/ps4e7-just-ligthgbm\n",
    "\n",
    "lgbm_params = {'n_estimators': 2000,\n",
    "               \"verbose\": -1,\n",
    "               'depth': 6,\n",
    "               \"eval_metric\": \"auc\",\n",
    "               \"max_bin\": 262143,\n",
    "               #'device': 'gpu' # GPU doesn't support a custom max_bin\n",
    "               'num_leaves': 223,\n",
    "               'learning_rate': 0.3, \n",
    "               'min_child_samples': 54,\n",
    "               'subsample': 0.5395472919165504,\n",
    "               'colsample_bytree': 0.547518064129546,\n",
    "               'lambda_l1': 3.4444245446562,\n",
    "               'lambda_l2': 2.87490408088595e-05}\n",
    "\n",
    "lgbm_tuned = LGBMClassifier(**lgbm_params, random_state=random_state)\n"
   ]
  },
  {
   "cell_type": "code",
   "execution_count": 23,
   "id": "35a3757f",
   "metadata": {
    "execution": {
     "iopub.execute_input": "2024-07-14T16:23:34.630215Z",
     "iopub.status.busy": "2024-07-14T16:23:34.629394Z",
     "iopub.status.idle": "2024-07-14T16:23:34.633622Z",
     "shell.execute_reply": "2024-07-14T16:23:34.632720Z"
    },
    "papermill": {
     "duration": 0.025415,
     "end_time": "2024-07-14T16:23:34.635564",
     "exception": false,
     "start_time": "2024-07-14T16:23:34.610149",
     "status": "completed"
    },
    "tags": []
   },
   "outputs": [],
   "source": [
    "#LGBM tooks to much time on CPU, and GPU doesn't support a custom max_bin I will not include it in this version.\n",
    "#%%time\n",
    "#cv_summary['lgbm'], oof_predictions['lgbm'], test_predictions['lgbm'] = cross_validate_score(lgbm_tuned, data=train_df, test_data=test_df, include_original=False)"
   ]
  },
  {
   "cell_type": "markdown",
   "id": "36bfb4b2",
   "metadata": {
    "execution": {
     "iopub.status.busy": "2024-07-05T12:28:33.424914Z",
     "iopub.status.idle": "2024-07-05T12:28:33.425338Z",
     "shell.execute_reply": "2024-07-05T12:28:33.425138Z",
     "shell.execute_reply.started": "2024-07-05T12:28:33.425119Z"
    },
    "papermill": {
     "duration": 0.019769,
     "end_time": "2024-07-14T16:23:34.674258",
     "exception": false,
     "start_time": "2024-07-14T16:23:34.654489",
     "status": "completed"
    },
    "tags": []
   },
   "source": [
    "<a id = \"12\"></a><br>\n",
    "## Catboost"
   ]
  },
  {
   "cell_type": "code",
   "execution_count": 19,
   "id": "3100a3eb",
   "metadata": {
    "execution": {
     "iopub.execute_input": "2024-07-14T16:23:34.711805Z",
     "iopub.status.busy": "2024-07-14T16:23:34.711498Z",
     "iopub.status.idle": "2024-07-14T16:23:34.719951Z",
     "shell.execute_reply": "2024-07-14T16:23:34.719130Z"
    },
    "papermill": {
     "duration": 0.029485,
     "end_time": "2024-07-14T16:23:34.721917",
     "exception": false,
     "start_time": "2024-07-14T16:23:34.692432",
     "status": "completed"
    },
    "tags": []
   },
   "outputs": [],
   "source": [
    "catb_params = {\n",
    "    'iterations': 10000,\n",
    "    'eval_metric': 'AUC',\n",
    "    'task_type': 'GPU',\n",
    "    'learning_rate': 0.1,\n",
    "    'depth': 9,\n",
    "    'l2_leaf_reg': 55.37964307854247,\n",
    "    'max_bin': 404,\n",
    "    'bagging_temperature': 0.017138393608280057,\n",
    "    'random_strength': 9.256288011643901\n",
    "}\n",
    "\n",
    "\n",
    "#defining all features as cateegorical makes huge impact \n",
    "#reference: https://www.kaggle.com/code/rohanrao/automl-grand-prix-1st-place-solution\n",
    "catb_tuned = CatBoostClassifier(**catb_params, random_state=random_state, logging_level='Silent',cat_features=test_df.columns.values)\n"
   ]
  },
  {
   "cell_type": "code",
   "execution_count": 20,
   "id": "4bcb0793",
   "metadata": {
    "execution": {
     "iopub.execute_input": "2024-07-14T16:23:34.758434Z",
     "iopub.status.busy": "2024-07-14T16:23:34.757790Z",
     "iopub.status.idle": "2024-07-14T19:17:51.203281Z",
     "shell.execute_reply": "2024-07-14T19:17:51.202128Z"
    },
    "papermill": {
     "duration": 10456.466115,
     "end_time": "2024-07-14T19:17:51.205411",
     "exception": false,
     "start_time": "2024-07-14T16:23:34.739296",
     "status": "completed"
    },
    "tags": []
   },
   "outputs": [
    {
     "name": "stderr",
     "output_type": "stream",
     "text": [
      "Default metric period is 5 because AUC is/are not implemented for GPU\n"
     ]
    },
    {
     "ename": "KeyboardInterrupt",
     "evalue": "",
     "output_type": "error",
     "traceback": [
      "\u001b[1;31m---------------------------------------------------------------------------\u001b[0m",
      "\u001b[1;31mKeyboardInterrupt\u001b[0m                         Traceback (most recent call last)",
      "File \u001b[1;32m<timed exec>:1\u001b[0m\n",
      "Cell \u001b[1;32mIn[17], line 47\u001b[0m, in \u001b[0;36mcross_validate_score\u001b[1;34m(model, data, cv, test_data, label, include_original, original_data)\u001b[0m\n\u001b[0;32m     45\u001b[0m     test_preds_proba \u001b[38;5;241m=\u001b[39m model_cloned\u001b[38;5;241m.\u001b[39mpredict_proba(test_data, num_iteration\u001b[38;5;241m=\u001b[39mbest_iteration)[:, \u001b[38;5;241m1\u001b[39m]\n\u001b[0;32m     46\u001b[0m \u001b[38;5;28;01melif\u001b[39;00m \u001b[38;5;28misinstance\u001b[39m(model_cloned, CatBoostClassifier):\n\u001b[1;32m---> 47\u001b[0m     \u001b[43mmodel_cloned\u001b[49m\u001b[38;5;241;43m.\u001b[39;49m\u001b[43mfit\u001b[49m\u001b[43m(\u001b[49m\u001b[43mX_train\u001b[49m\u001b[43m,\u001b[49m\u001b[43m \u001b[49m\u001b[43my_train\u001b[49m\u001b[43m,\u001b[49m\u001b[43m \u001b[49m\u001b[43meval_set\u001b[49m\u001b[38;5;241;43m=\u001b[39;49m\u001b[43m(\u001b[49m\u001b[43mX_val\u001b[49m\u001b[43m,\u001b[49m\u001b[43m \u001b[49m\u001b[43my_val\u001b[49m\u001b[43m)\u001b[49m\u001b[43m,\u001b[49m\u001b[43m \u001b[49m\u001b[43mearly_stopping_rounds\u001b[49m\u001b[38;5;241;43m=\u001b[39;49m\u001b[38;5;241;43m50\u001b[39;49m\u001b[43m,\u001b[49m\u001b[43m \u001b[49m\u001b[43mverbose\u001b[49m\u001b[38;5;241;43m=\u001b[39;49m\u001b[38;5;28;43;01mFalse\u001b[39;49;00m\u001b[43m)\u001b[49m\n\u001b[0;32m     48\u001b[0m     best_iteration \u001b[38;5;241m=\u001b[39m model_cloned\u001b[38;5;241m.\u001b[39mget_best_iteration()\n\u001b[0;32m     49\u001b[0m     train_preds_proba \u001b[38;5;241m=\u001b[39m model_cloned\u001b[38;5;241m.\u001b[39mpredict_proba(X_train)[:, \u001b[38;5;241m1\u001b[39m]\n",
      "File \u001b[1;32mc:\\Users\\hmhm0\\AppData\\Local\\Programs\\Python\\Python310\\lib\\site-packages\\catboost\\core.py:5220\u001b[0m, in \u001b[0;36mCatBoostClassifier.fit\u001b[1;34m(self, X, y, cat_features, text_features, embedding_features, sample_weight, baseline, use_best_model, eval_set, verbose, logging_level, plot, plot_file, column_description, verbose_eval, metric_period, silent, early_stopping_rounds, save_snapshot, snapshot_file, snapshot_interval, init_model, callbacks, log_cout, log_cerr)\u001b[0m\n\u001b[0;32m   5217\u001b[0m \u001b[38;5;28;01mif\u001b[39;00m \u001b[38;5;124m'\u001b[39m\u001b[38;5;124mloss_function\u001b[39m\u001b[38;5;124m'\u001b[39m \u001b[38;5;129;01min\u001b[39;00m params:\n\u001b[0;32m   5218\u001b[0m     CatBoostClassifier\u001b[38;5;241m.\u001b[39m_check_is_compatible_loss(params[\u001b[38;5;124m'\u001b[39m\u001b[38;5;124mloss_function\u001b[39m\u001b[38;5;124m'\u001b[39m])\n\u001b[1;32m-> 5220\u001b[0m \u001b[38;5;28;43mself\u001b[39;49m\u001b[38;5;241;43m.\u001b[39;49m\u001b[43m_fit\u001b[49m\u001b[43m(\u001b[49m\u001b[43mX\u001b[49m\u001b[43m,\u001b[49m\u001b[43m \u001b[49m\u001b[43my\u001b[49m\u001b[43m,\u001b[49m\u001b[43m \u001b[49m\u001b[43mcat_features\u001b[49m\u001b[43m,\u001b[49m\u001b[43m \u001b[49m\u001b[43mtext_features\u001b[49m\u001b[43m,\u001b[49m\u001b[43m \u001b[49m\u001b[43membedding_features\u001b[49m\u001b[43m,\u001b[49m\u001b[43m \u001b[49m\u001b[38;5;28;43;01mNone\u001b[39;49;00m\u001b[43m,\u001b[49m\u001b[43m \u001b[49m\u001b[43msample_weight\u001b[49m\u001b[43m,\u001b[49m\u001b[43m \u001b[49m\u001b[38;5;28;43;01mNone\u001b[39;49;00m\u001b[43m,\u001b[49m\u001b[43m \u001b[49m\u001b[38;5;28;43;01mNone\u001b[39;49;00m\u001b[43m,\u001b[49m\u001b[43m \u001b[49m\u001b[38;5;28;43;01mNone\u001b[39;49;00m\u001b[43m,\u001b[49m\u001b[43m \u001b[49m\u001b[38;5;28;43;01mNone\u001b[39;49;00m\u001b[43m,\u001b[49m\u001b[43m \u001b[49m\u001b[43mbaseline\u001b[49m\u001b[43m,\u001b[49m\u001b[43m \u001b[49m\u001b[43muse_best_model\u001b[49m\u001b[43m,\u001b[49m\n\u001b[0;32m   5221\u001b[0m \u001b[43m          \u001b[49m\u001b[43meval_set\u001b[49m\u001b[43m,\u001b[49m\u001b[43m \u001b[49m\u001b[43mverbose\u001b[49m\u001b[43m,\u001b[49m\u001b[43m \u001b[49m\u001b[43mlogging_level\u001b[49m\u001b[43m,\u001b[49m\u001b[43m \u001b[49m\u001b[43mplot\u001b[49m\u001b[43m,\u001b[49m\u001b[43m \u001b[49m\u001b[43mplot_file\u001b[49m\u001b[43m,\u001b[49m\u001b[43m \u001b[49m\u001b[43mcolumn_description\u001b[49m\u001b[43m,\u001b[49m\u001b[43m \u001b[49m\u001b[43mverbose_eval\u001b[49m\u001b[43m,\u001b[49m\u001b[43m \u001b[49m\u001b[43mmetric_period\u001b[49m\u001b[43m,\u001b[49m\n\u001b[0;32m   5222\u001b[0m \u001b[43m          \u001b[49m\u001b[43msilent\u001b[49m\u001b[43m,\u001b[49m\u001b[43m \u001b[49m\u001b[43mearly_stopping_rounds\u001b[49m\u001b[43m,\u001b[49m\u001b[43m \u001b[49m\u001b[43msave_snapshot\u001b[49m\u001b[43m,\u001b[49m\u001b[43m \u001b[49m\u001b[43msnapshot_file\u001b[49m\u001b[43m,\u001b[49m\u001b[43m \u001b[49m\u001b[43msnapshot_interval\u001b[49m\u001b[43m,\u001b[49m\u001b[43m \u001b[49m\u001b[43minit_model\u001b[49m\u001b[43m,\u001b[49m\u001b[43m \u001b[49m\u001b[43mcallbacks\u001b[49m\u001b[43m,\u001b[49m\u001b[43m \u001b[49m\u001b[43mlog_cout\u001b[49m\u001b[43m,\u001b[49m\u001b[43m \u001b[49m\u001b[43mlog_cerr\u001b[49m\u001b[43m)\u001b[49m\n\u001b[0;32m   5223\u001b[0m \u001b[38;5;28;01mreturn\u001b[39;00m \u001b[38;5;28mself\u001b[39m\n",
      "File \u001b[1;32mc:\\Users\\hmhm0\\AppData\\Local\\Programs\\Python\\Python310\\lib\\site-packages\\catboost\\core.py:2400\u001b[0m, in \u001b[0;36mCatBoost._fit\u001b[1;34m(self, X, y, cat_features, text_features, embedding_features, pairs, sample_weight, group_id, group_weight, subgroup_id, pairs_weight, baseline, use_best_model, eval_set, verbose, logging_level, plot, plot_file, column_description, verbose_eval, metric_period, silent, early_stopping_rounds, save_snapshot, snapshot_file, snapshot_interval, init_model, callbacks, log_cout, log_cerr)\u001b[0m\n\u001b[0;32m   2397\u001b[0m allow_clear_pool \u001b[38;5;241m=\u001b[39m train_params[\u001b[38;5;124m\"\u001b[39m\u001b[38;5;124mallow_clear_pool\u001b[39m\u001b[38;5;124m\"\u001b[39m]\n\u001b[0;32m   2399\u001b[0m \u001b[38;5;28;01mwith\u001b[39;00m plot_wrapper(plot, plot_file, \u001b[38;5;124m'\u001b[39m\u001b[38;5;124mTraining plots\u001b[39m\u001b[38;5;124m'\u001b[39m, [_get_train_dir(\u001b[38;5;28mself\u001b[39m\u001b[38;5;241m.\u001b[39mget_params())]):\n\u001b[1;32m-> 2400\u001b[0m     \u001b[38;5;28;43mself\u001b[39;49m\u001b[38;5;241;43m.\u001b[39;49m\u001b[43m_train\u001b[49m\u001b[43m(\u001b[49m\n\u001b[0;32m   2401\u001b[0m \u001b[43m        \u001b[49m\u001b[43mtrain_pool\u001b[49m\u001b[43m,\u001b[49m\n\u001b[0;32m   2402\u001b[0m \u001b[43m        \u001b[49m\u001b[43mtrain_params\u001b[49m\u001b[43m[\u001b[49m\u001b[38;5;124;43m\"\u001b[39;49m\u001b[38;5;124;43meval_sets\u001b[39;49m\u001b[38;5;124;43m\"\u001b[39;49m\u001b[43m]\u001b[49m\u001b[43m,\u001b[49m\n\u001b[0;32m   2403\u001b[0m \u001b[43m        \u001b[49m\u001b[43mparams\u001b[49m\u001b[43m,\u001b[49m\n\u001b[0;32m   2404\u001b[0m \u001b[43m        \u001b[49m\u001b[43mallow_clear_pool\u001b[49m\u001b[43m,\u001b[49m\n\u001b[0;32m   2405\u001b[0m \u001b[43m        \u001b[49m\u001b[43mtrain_params\u001b[49m\u001b[43m[\u001b[49m\u001b[38;5;124;43m\"\u001b[39;49m\u001b[38;5;124;43minit_model\u001b[39;49m\u001b[38;5;124;43m\"\u001b[39;49m\u001b[43m]\u001b[49m\n\u001b[0;32m   2406\u001b[0m \u001b[43m    \u001b[49m\u001b[43m)\u001b[49m\n\u001b[0;32m   2408\u001b[0m \u001b[38;5;66;03m# Have property feature_importance possibly set\u001b[39;00m\n\u001b[0;32m   2409\u001b[0m loss \u001b[38;5;241m=\u001b[39m \u001b[38;5;28mself\u001b[39m\u001b[38;5;241m.\u001b[39m_object\u001b[38;5;241m.\u001b[39m_get_loss_function_name()\n",
      "File \u001b[1;32mc:\\Users\\hmhm0\\AppData\\Local\\Programs\\Python\\Python310\\lib\\site-packages\\catboost\\core.py:1780\u001b[0m, in \u001b[0;36m_CatBoostBase._train\u001b[1;34m(self, train_pool, test_pool, params, allow_clear_pool, init_model)\u001b[0m\n\u001b[0;32m   1779\u001b[0m \u001b[38;5;28;01mdef\u001b[39;00m \u001b[38;5;21m_train\u001b[39m(\u001b[38;5;28mself\u001b[39m, train_pool, test_pool, params, allow_clear_pool, init_model):\n\u001b[1;32m-> 1780\u001b[0m     \u001b[38;5;28;43mself\u001b[39;49m\u001b[38;5;241;43m.\u001b[39;49m\u001b[43m_object\u001b[49m\u001b[38;5;241;43m.\u001b[39;49m\u001b[43m_train\u001b[49m\u001b[43m(\u001b[49m\u001b[43mtrain_pool\u001b[49m\u001b[43m,\u001b[49m\u001b[43m \u001b[49m\u001b[43mtest_pool\u001b[49m\u001b[43m,\u001b[49m\u001b[43m \u001b[49m\u001b[43mparams\u001b[49m\u001b[43m,\u001b[49m\u001b[43m \u001b[49m\u001b[43mallow_clear_pool\u001b[49m\u001b[43m,\u001b[49m\u001b[43m \u001b[49m\u001b[43minit_model\u001b[49m\u001b[38;5;241;43m.\u001b[39;49m\u001b[43m_object\u001b[49m\u001b[43m \u001b[49m\u001b[38;5;28;43;01mif\u001b[39;49;00m\u001b[43m \u001b[49m\u001b[43minit_model\u001b[49m\u001b[43m \u001b[49m\u001b[38;5;28;43;01melse\u001b[39;49;00m\u001b[43m \u001b[49m\u001b[38;5;28;43;01mNone\u001b[39;49;00m\u001b[43m)\u001b[49m\n\u001b[0;32m   1781\u001b[0m     \u001b[38;5;28mself\u001b[39m\u001b[38;5;241m.\u001b[39m_set_trained_model_attributes()\n",
      "File \u001b[1;32m_catboost.pyx:4833\u001b[0m, in \u001b[0;36m_catboost._CatBoost._train\u001b[1;34m()\u001b[0m\n",
      "File \u001b[1;32m_catboost.pyx:4882\u001b[0m, in \u001b[0;36m_catboost._CatBoost._train\u001b[1;34m()\u001b[0m\n",
      "\u001b[1;31mKeyboardInterrupt\u001b[0m: "
     ]
    }
   ],
   "source": [
    "%%time\n",
    "cv_summary['catb'], oof_predictions['catb'], test_predictions['catb'] = cross_validate_score(catb_tuned, data=train_df, test_data=test_df, include_original=False)"
   ]
  },
  {
   "cell_type": "markdown",
   "id": "4c48742f",
   "metadata": {
    "papermill": {
     "duration": 0.018392,
     "end_time": "2024-07-14T19:17:51.242651",
     "exception": false,
     "start_time": "2024-07-14T19:17:51.224259",
     "status": "completed"
    },
    "tags": []
   },
   "source": [
    "<a id = \"13\"></a><br>\n",
    "## Neural Network"
   ]
  },
  {
   "cell_type": "code",
   "execution_count": 24,
   "id": "cc5e4eff",
   "metadata": {
    "execution": {
     "iopub.execute_input": "2024-07-14T19:17:51.281059Z",
     "iopub.status.busy": "2024-07-14T19:17:51.280291Z",
     "iopub.status.idle": "2024-07-14T19:17:51.293567Z",
     "shell.execute_reply": "2024-07-14T19:17:51.292736Z"
    },
    "papermill": {
     "duration": 0.034576,
     "end_time": "2024-07-14T19:17:51.295526",
     "exception": false,
     "start_time": "2024-07-14T19:17:51.260950",
     "status": "completed"
    },
    "tags": []
   },
   "outputs": [],
   "source": [
    "\n",
    "def cross_validate_score_nn(model_builder, data: pd.DataFrame, test_data: pd.DataFrame, label: str = 'Response', cv=None):\n",
    "    if cv is None:\n",
    "        cv = StratifiedKFold(n_splits=5, shuffle=True, random_state=42)\n",
    "    \n",
    "    X = data.copy()\n",
    "    y = X.pop(label)\n",
    "    \n",
    "    val_predictions = np.zeros(len(X))\n",
    "    test_predictions = np.zeros(len(test_data))\n",
    "    val_scores = []\n",
    "    \n",
    "    input_shape = {feature: int(data[feature].max()) for feature in categorical_features}\n",
    "    \n",
    "    for fold, (train_idx, val_idx) in enumerate(cv.split(X, y)):\n",
    "        X_train = X.iloc[train_idx].reset_index(drop=True)\n",
    "        y_train = y.iloc[train_idx].reset_index(drop=True)\n",
    "        X_val = X.iloc[val_idx].reset_index(drop=True)\n",
    "        y_val = y.iloc[val_idx].reset_index(drop=True)\n",
    "        \n",
    "        model = model_builder(input_shape)\n",
    "        model.compile(optimizer=keras.optimizers.Adam(learning_rate=1e-4),\n",
    "                      loss='binary_crossentropy',\n",
    "                      metrics=[keras.metrics.AUC(name='auc')])\n",
    "        \n",
    "        X_train_inputs = {feature: X_train[feature].values for feature in categorical_features}\n",
    "        X_train_inputs['numerical'] = X_train[numerical_features].values\n",
    "        \n",
    "        X_val_inputs = {feature: X_val[feature].values for feature in categorical_features}\n",
    "        X_val_inputs['numerical'] = X_val[numerical_features].values\n",
    "        \n",
    "        model.fit(X_train_inputs, y_train, epochs=4, batch_size=1024, validation_data=(X_val_inputs, y_val), verbose=0)\n",
    "\n",
    "        val_preds_proba = model.predict(X_val_inputs).flatten()\n",
    "        val_predictions[val_idx] = val_preds_proba\n",
    "        val_scores.append(roc_auc_score(y_val, val_preds_proba))\n",
    "        \n",
    "        # Predict on test data\n",
    "        test_inputs = {feature: test_data[feature].values for feature in categorical_features}\n",
    "        test_inputs['numerical'] = test_data[numerical_features].values\n",
    "        test_preds_proba = model.predict(test_inputs).flatten()\n",
    "        test_predictions += test_preds_proba / cv.get_n_splits()\n",
    "        \n",
    "        print(f'Fold {fold}: {val_scores[-1]:.5f}')\n",
    "    \n",
    "    print(f'Val Score: {np.mean(val_scores):.7f} ± {np.std(val_scores):.7f} | {label}')\n",
    "    \n",
    "    return val_scores, val_predictions, test_predictions"
   ]
  },
  {
   "cell_type": "code",
   "execution_count": 25,
   "id": "57165227",
   "metadata": {
    "execution": {
     "iopub.execute_input": "2024-07-14T19:17:51.333308Z",
     "iopub.status.busy": "2024-07-14T19:17:51.333038Z",
     "iopub.status.idle": "2024-07-14T19:18:22.381225Z",
     "shell.execute_reply": "2024-07-14T19:18:22.380333Z"
    },
    "papermill": {
     "duration": 31.069807,
     "end_time": "2024-07-14T19:18:22.383622",
     "exception": false,
     "start_time": "2024-07-14T19:17:51.313815",
     "status": "completed"
    },
    "tags": []
   },
   "outputs": [],
   "source": [
    "#Data curation to deal with high cardinality with embedding layers.\n",
    "def prepare_data(train_df, test_df, numerical_features, categorical_features):\n",
    "    # Concatenate train and test data for consistent encoding\n",
    "    combined_data = pd.concat([train_df, test_df], keys=['train', 'test']).reset_index(level=0)\n",
    "    \n",
    "    # Ordinal encode categorical features\n",
    "    ordinal_encoder = OrdinalEncoder()\n",
    "    combined_data[categorical_features] = ordinal_encoder.fit_transform(combined_data[categorical_features])\n",
    "    \n",
    "    # Split back into train and test sets\n",
    "    train_data = combined_data[combined_data['level_0'] == 'train'].drop(columns=['level_0'])\n",
    "    test_data = combined_data[combined_data['level_0'] == 'test'].drop(columns=['level_0'])\n",
    "    \n",
    "    return train_data, test_data\n",
    "\n",
    "# Example usage\n",
    "numerical_features = ['Driving_License', 'Previously_Insured']\n",
    "categorical_features = ['Region_Code', 'Policy_Sales_Channel', 'Vintage', 'Annual_Premium', 'Age', 'Gender', 'Vehicle_Damage', 'Vehicle_Age']\n",
    "\n",
    "train_data, test_data = prepare_data(train_df, test_df, numerical_features, categorical_features)\n"
   ]
  },
  {
   "cell_type": "code",
   "execution_count": 26,
   "id": "b5b4dcf2",
   "metadata": {
    "execution": {
     "iopub.execute_input": "2024-07-14T19:18:22.422878Z",
     "iopub.status.busy": "2024-07-14T19:18:22.422575Z",
     "iopub.status.idle": "2024-07-14T19:18:33.763205Z",
     "shell.execute_reply": "2024-07-14T19:18:33.762225Z"
    },
    "papermill": {
     "duration": 11.362474,
     "end_time": "2024-07-14T19:18:33.765672",
     "exception": false,
     "start_time": "2024-07-14T19:18:22.403198",
     "status": "completed"
    },
    "tags": []
   },
   "outputs": [
    {
     "name": "stderr",
     "output_type": "stream",
     "text": [
      "2024-07-14 19:18:24.183457: E external/local_xla/xla/stream_executor/cuda/cuda_dnn.cc:9261] Unable to register cuDNN factory: Attempting to register factory for plugin cuDNN when one has already been registered\n",
      "2024-07-14 19:18:24.183581: E external/local_xla/xla/stream_executor/cuda/cuda_fft.cc:607] Unable to register cuFFT factory: Attempting to register factory for plugin cuFFT when one has already been registered\n",
      "2024-07-14 19:18:24.311414: E external/local_xla/xla/stream_executor/cuda/cuda_blas.cc:1515] Unable to register cuBLAS factory: Attempting to register factory for plugin cuBLAS when one has already been registered\n"
     ]
    }
   ],
   "source": [
    "#reference: https://www.kaggle.com/code/paddykb/ps-s4e7-keras-haz-insurance-losses/notebook\n",
    "#NN with embedding layers to  deal with high cardinality\n",
    "from tensorflow import keras\n",
    "from tensorflow.keras import layers\n",
    "\n",
    "\n",
    "def create_model(input_shape):\n",
    "    inputs = []\n",
    "    flat_embeddings = []\n",
    "\n",
    "    for feature, input_dim in input_shape.items():\n",
    "        output_dim = min(64, round(1.6 * (input_dim + 1) ** 0.56))  \n",
    "        input_layer = keras.Input(shape=(1,), name=feature)\n",
    "        embedding_layer = layers.Embedding(input_dim=input_dim + 1, output_dim=output_dim)(input_layer)  \n",
    "        embedding_layer = layers.SpatialDropout1D(0.3)(embedding_layer)\n",
    "        embedding_layer = layers.Flatten()(embedding_layer)\n",
    "        inputs.append(input_layer)\n",
    "        flat_embeddings.append(embedding_layer)\n",
    "    \n",
    "    numerical_input = keras.Input(shape=(len(numerical_features),), name='numerical')\n",
    "    inputs.append(numerical_input)\n",
    "\n",
    "    concatenated_inputs = layers.Concatenate()(flat_embeddings + [numerical_input])\n",
    "    concatenated_inputs_bn = layers.BatchNormalization()(concatenated_inputs)\n",
    "\n",
    "    x = layers.Dense(256, activation='mish')(concatenated_inputs_bn)\n",
    "    x = layers.BatchNormalization()(x)\n",
    "    x = layers.Concatenate()([x, concatenated_inputs_bn])\n",
    "    x = layers.Dense(128, activation='mish')(x)\n",
    "    x = layers.Dropout(0.3)(x)\n",
    "    x = layers.BatchNormalization()(x)\n",
    "\n",
    "    outputs = layers.Dense(1, activation='sigmoid')(x)\n",
    "\n",
    "    model = keras.Model(inputs=inputs, outputs=outputs)\n",
    "    return model"
   ]
  },
  {
   "cell_type": "code",
   "execution_count": 27,
   "id": "09166a75",
   "metadata": {
    "execution": {
     "iopub.execute_input": "2024-07-14T19:18:33.804967Z",
     "iopub.status.busy": "2024-07-14T19:18:33.804251Z",
     "iopub.status.idle": "2024-07-14T20:48:46.764694Z",
     "shell.execute_reply": "2024-07-14T20:48:46.763710Z"
    },
    "papermill": {
     "duration": 5418.643917,
     "end_time": "2024-07-14T20:48:52.428683",
     "exception": false,
     "start_time": "2024-07-14T19:18:33.784766",
     "status": "completed"
    },
    "tags": []
   },
   "outputs": [
    {
     "name": "stderr",
     "output_type": "stream",
     "text": [
      "WARNING: All log messages before absl::InitializeLog() is called are written to STDERR\n",
      "I0000 00:00:1720984742.601320     186 device_compiler.h:186] Compiled cluster using XLA!  This line is logged at most once for the lifetime of the process.\n",
      "W0000 00:00:1720984742.622540     186 graph_launch.cc:671] Fallback to op-by-op mode because memset node breaks graph update\n"
     ]
    },
    {
     "name": "stdout",
     "output_type": "stream",
     "text": [
      "\u001b[1m71905/71905\u001b[0m \u001b[32m━━━━━━━━━━━━━━━━━━━━\u001b[0m\u001b[37m\u001b[0m \u001b[1m156s\u001b[0m 2ms/step\n",
      "\u001b[1m239684/239684\u001b[0m \u001b[32m━━━━━━━━━━━━━━━━━━━━\u001b[0m\u001b[37m\u001b[0m \u001b[1m534s\u001b[0m 2ms/step\n",
      "Fold 0: 0.89160\n"
     ]
    },
    {
     "name": "stderr",
     "output_type": "stream",
     "text": [
      "W0000 00:00:1720985901.215094     186 graph_launch.cc:671] Fallback to op-by-op mode because memset node breaks graph update\n"
     ]
    },
    {
     "name": "stdout",
     "output_type": "stream",
     "text": [
      "\u001b[1m71905/71905\u001b[0m \u001b[32m━━━━━━━━━━━━━━━━━━━━\u001b[0m\u001b[37m\u001b[0m \u001b[1m161s\u001b[0m 2ms/step\n",
      "\u001b[1m239684/239684\u001b[0m \u001b[32m━━━━━━━━━━━━━━━━━━━━\u001b[0m\u001b[37m\u001b[0m \u001b[1m540s\u001b[0m 2ms/step\n",
      "Fold 1: 0.89125\n"
     ]
    },
    {
     "name": "stderr",
     "output_type": "stream",
     "text": [
      "W0000 00:00:1720986957.250018     184 graph_launch.cc:671] Fallback to op-by-op mode because memset node breaks graph update\n"
     ]
    },
    {
     "name": "stdout",
     "output_type": "stream",
     "text": [
      "\u001b[1m71905/71905\u001b[0m \u001b[32m━━━━━━━━━━━━━━━━━━━━\u001b[0m\u001b[37m\u001b[0m \u001b[1m160s\u001b[0m 2ms/step\n",
      "\u001b[1m239684/239684\u001b[0m \u001b[32m━━━━━━━━━━━━━━━━━━━━\u001b[0m\u001b[37m\u001b[0m \u001b[1m543s\u001b[0m 2ms/step\n",
      "Fold 2: 0.89137\n"
     ]
    },
    {
     "name": "stderr",
     "output_type": "stream",
     "text": [
      "W0000 00:00:1720988015.758014     185 graph_launch.cc:671] Fallback to op-by-op mode because memset node breaks graph update\n"
     ]
    },
    {
     "name": "stdout",
     "output_type": "stream",
     "text": [
      "\u001b[1m71905/71905\u001b[0m \u001b[32m━━━━━━━━━━━━━━━━━━━━\u001b[0m\u001b[37m\u001b[0m \u001b[1m163s\u001b[0m 2ms/step\n",
      "\u001b[1m239684/239684\u001b[0m \u001b[32m━━━━━━━━━━━━━━━━━━━━\u001b[0m\u001b[37m\u001b[0m \u001b[1m544s\u001b[0m 2ms/step\n",
      "Fold 3: 0.89119\n"
     ]
    },
    {
     "name": "stderr",
     "output_type": "stream",
     "text": [
      "W0000 00:00:1720989081.064730     185 graph_launch.cc:671] Fallback to op-by-op mode because memset node breaks graph update\n"
     ]
    },
    {
     "name": "stdout",
     "output_type": "stream",
     "text": [
      "\u001b[1m71905/71905\u001b[0m \u001b[32m━━━━━━━━━━━━━━━━━━━━\u001b[0m\u001b[37m\u001b[0m \u001b[1m162s\u001b[0m 2ms/step\n",
      "\u001b[1m239684/239684\u001b[0m \u001b[32m━━━━━━━━━━━━━━━━━━━━\u001b[0m\u001b[37m\u001b[0m \u001b[1m546s\u001b[0m 2ms/step\n",
      "Fold 4: 0.89202\n",
      "Val Score: 0.8914853 ± 0.0003036 | Response\n",
      "CPU times: user 1h 50min 14s, sys: 7min 53s, total: 1h 58min 8s\n",
      "Wall time: 1h 30min 12s\n"
     ]
    }
   ],
   "source": [
    "%%time\n",
    "cv_summary['nn'], oof_predictions['nn'], test_predictions['nn'] = cross_validate_score_nn(create_model, train_data, test_data=test_data)"
   ]
  },
  {
   "cell_type": "markdown",
   "id": "a72c1f3f",
   "metadata": {
    "execution": {
     "iopub.status.busy": "2024-07-05T12:28:33.430304Z",
     "iopub.status.idle": "2024-07-05T12:28:33.430646Z",
     "shell.execute_reply": "2024-07-05T12:28:33.430473Z",
     "shell.execute_reply.started": "2024-07-05T12:28:33.430461Z"
    },
    "papermill": {
     "duration": 5.675284,
     "end_time": "2024-07-14T20:49:03.922756",
     "exception": false,
     "start_time": "2024-07-14T20:48:58.247472",
     "status": "completed"
    },
    "tags": []
   },
   "source": [
    "<a id = \"14\"></a><br>\n",
    "## Performance Summary"
   ]
  },
  {
   "cell_type": "code",
   "execution_count": 28,
   "id": "024bd2db",
   "metadata": {
    "execution": {
     "iopub.execute_input": "2024-07-14T20:49:15.330672Z",
     "iopub.status.busy": "2024-07-14T20:49:15.330294Z",
     "iopub.status.idle": "2024-07-14T20:49:15.352438Z",
     "shell.execute_reply": "2024-07-14T20:49:15.351513Z"
    },
    "papermill": {
     "duration": 5.755518,
     "end_time": "2024-07-14T20:49:15.354353",
     "exception": false,
     "start_time": "2024-07-14T20:49:09.598835",
     "status": "completed"
    },
    "tags": []
   },
   "outputs": [
    {
     "data": {
      "text/html": [
       "<style type=\"text/css\">\n",
       "#T_38bfa_row0_col0, #T_38bfa_row0_col1, #T_38bfa_row0_col2, #T_38bfa_row0_col3, #T_38bfa_row0_col4, #T_38bfa_row0_col5, #T_38bfa_row1_col6 {\n",
       "  background-color: #1b9e77;\n",
       "  color: #f1f1f1;\n",
       "}\n",
       "#T_38bfa_row0_col6 {\n",
       "  background-color: #d95f02;\n",
       "  color: #f1f1f1;\n",
       "}\n",
       "#T_38bfa_row1_col0, #T_38bfa_row1_col1, #T_38bfa_row1_col2, #T_38bfa_row1_col3, #T_38bfa_row1_col5, #T_38bfa_row2_col0, #T_38bfa_row2_col1, #T_38bfa_row2_col2, #T_38bfa_row2_col3, #T_38bfa_row2_col4, #T_38bfa_row2_col5, #T_38bfa_row2_col6 {\n",
       "  background-color: #666666;\n",
       "  color: #f1f1f1;\n",
       "}\n",
       "#T_38bfa_row1_col4 {\n",
       "  background-color: #a6761d;\n",
       "  color: #f1f1f1;\n",
       "}\n",
       "</style>\n",
       "<table id=\"T_38bfa\">\n",
       "  <thead>\n",
       "    <tr>\n",
       "      <th class=\"blank level0\" >&nbsp;</th>\n",
       "      <th id=\"T_38bfa_level0_col0\" class=\"col_heading level0 col0\" >fold1</th>\n",
       "      <th id=\"T_38bfa_level0_col1\" class=\"col_heading level0 col1\" >fold2</th>\n",
       "      <th id=\"T_38bfa_level0_col2\" class=\"col_heading level0 col2\" >fold3</th>\n",
       "      <th id=\"T_38bfa_level0_col3\" class=\"col_heading level0 col3\" >fold4</th>\n",
       "      <th id=\"T_38bfa_level0_col4\" class=\"col_heading level0 col4\" >fold5</th>\n",
       "      <th id=\"T_38bfa_level0_col5\" class=\"col_heading level0 col5\" >Mean</th>\n",
       "      <th id=\"T_38bfa_level0_col6\" class=\"col_heading level0 col6\" >Std</th>\n",
       "    </tr>\n",
       "  </thead>\n",
       "  <tbody>\n",
       "    <tr>\n",
       "      <th id=\"T_38bfa_level0_row0\" class=\"row_heading level0 row0\" >catb</th>\n",
       "      <td id=\"T_38bfa_row0_col0\" class=\"data row0 col0\" >0.895177</td>\n",
       "      <td id=\"T_38bfa_row0_col1\" class=\"data row0 col1\" >0.894785</td>\n",
       "      <td id=\"T_38bfa_row0_col2\" class=\"data row0 col2\" >0.895066</td>\n",
       "      <td id=\"T_38bfa_row0_col3\" class=\"data row0 col3\" >0.894875</td>\n",
       "      <td id=\"T_38bfa_row0_col4\" class=\"data row0 col4\" >0.895527</td>\n",
       "      <td id=\"T_38bfa_row0_col5\" class=\"data row0 col5\" >0.895086</td>\n",
       "      <td id=\"T_38bfa_row0_col6\" class=\"data row0 col6\" >0.000260</td>\n",
       "    </tr>\n",
       "    <tr>\n",
       "      <th id=\"T_38bfa_level0_row1\" class=\"row_heading level0 row1\" >nn</th>\n",
       "      <td id=\"T_38bfa_row1_col0\" class=\"data row1 col0\" >0.891599</td>\n",
       "      <td id=\"T_38bfa_row1_col1\" class=\"data row1 col1\" >0.891247</td>\n",
       "      <td id=\"T_38bfa_row1_col2\" class=\"data row1 col2\" >0.891367</td>\n",
       "      <td id=\"T_38bfa_row1_col3\" class=\"data row1 col3\" >0.891190</td>\n",
       "      <td id=\"T_38bfa_row1_col4\" class=\"data row1 col4\" >0.892024</td>\n",
       "      <td id=\"T_38bfa_row1_col5\" class=\"data row1 col5\" >0.891485</td>\n",
       "      <td id=\"T_38bfa_row1_col6\" class=\"data row1 col6\" >0.000304</td>\n",
       "    </tr>\n",
       "    <tr>\n",
       "      <th id=\"T_38bfa_level0_row2\" class=\"row_heading level0 row2\" >xgb</th>\n",
       "      <td id=\"T_38bfa_row2_col0\" class=\"data row2 col0\" >0.891633</td>\n",
       "      <td id=\"T_38bfa_row2_col1\" class=\"data row2 col1\" >0.891337</td>\n",
       "      <td id=\"T_38bfa_row2_col2\" class=\"data row2 col2\" >0.891521</td>\n",
       "      <td id=\"T_38bfa_row2_col3\" class=\"data row2 col3\" >0.891398</td>\n",
       "      <td id=\"T_38bfa_row2_col4\" class=\"data row2 col4\" >0.891439</td>\n",
       "      <td id=\"T_38bfa_row2_col5\" class=\"data row2 col5\" >0.891465</td>\n",
       "      <td id=\"T_38bfa_row2_col6\" class=\"data row2 col6\" >0.000103</td>\n",
       "    </tr>\n",
       "  </tbody>\n",
       "</table>\n"
      ],
      "text/plain": [
       "<pandas.io.formats.style.Styler at 0x7e67e985a680>"
      ]
     },
     "execution_count": 28,
     "metadata": {},
     "output_type": "execute_result"
    }
   ],
   "source": [
    "#performance summary for base learners\n",
    "transposed_df = cv_summary.transpose()\n",
    "transposed_df.columns = ['fold1','fold2','fold3','fold4','fold5']\n",
    "transposed_df['Mean'] = transposed_df.mean(axis=1)\n",
    "transposed_df['Std'] = transposed_df.std(axis=1)\n",
    "transposed_df.sort_values(by = 'Mean', ascending=False).style.background_gradient('Dark2_r')\n"
   ]
  },
  {
   "cell_type": "code",
   "execution_count": 29,
   "id": "1fa98883",
   "metadata": {
    "execution": {
     "iopub.execute_input": "2024-07-14T20:49:26.853080Z",
     "iopub.status.busy": "2024-07-14T20:49:26.852158Z",
     "iopub.status.idle": "2024-07-14T20:49:27.699273Z",
     "shell.execute_reply": "2024-07-14T20:49:27.698284Z"
    },
    "papermill": {
     "duration": 6.54134,
     "end_time": "2024-07-14T20:49:27.701621",
     "exception": false,
     "start_time": "2024-07-14T20:49:21.160281",
     "status": "completed"
    },
    "tags": []
   },
   "outputs": [
    {
     "data": {
      "image/png": "[encoded data removed]",
      "text/plain": [
       "<Figure size 2000x2000 with 2 Axes>"
      ]
     },
     "metadata": {},
     "output_type": "display_data"
    }
   ],
   "source": [
    "sns.set(font_scale=1.2, style=\"whitegrid\")\n",
    "correlation_train = oof_predictions.corr()\n",
    "mask = np.triu(np.ones_like(correlation_train, dtype=bool))\n",
    "plt.figure(figsize=(20, 20))\n",
    "sns.heatmap(correlation_train, \n",
    "            mask=mask, \n",
    "            annot=True, \n",
    "            fmt='.3f', \n",
    "            cmap='coolwarm', \n",
    "            square=True, \n",
    "            linewidths=.5, \n",
    "            cbar_kws={\"shrink\": .75})\n",
    "plt.title('Model Diversity Check - Correlation Heatmap', fontsize=20, pad=20)\n",
    "plt.show()\n"
   ]
  },
  {
   "cell_type": "markdown",
   "id": "71878714",
   "metadata": {
    "execution": {
     "iopub.status.busy": "2024-07-05T12:28:33.436962Z",
     "iopub.status.idle": "2024-07-05T12:28:33.437312Z",
     "shell.execute_reply": "2024-07-05T12:28:33.437166Z",
     "shell.execute_reply.started": "2024-07-05T12:28:33.437152Z"
    },
    "papermill": {
     "duration": 5.691674,
     "end_time": "2024-07-14T20:49:39.051586",
     "exception": false,
     "start_time": "2024-07-14T20:49:33.359912",
     "status": "completed"
    },
    "tags": []
   },
   "source": [
    "<a id = \"15\"></a><br>\n",
    "## Voting vs Stacking"
   ]
  },
  {
   "cell_type": "code",
   "execution_count": 30,
   "id": "72be56d6",
   "metadata": {
    "execution": {
     "iopub.execute_input": "2024-07-14T20:49:50.582252Z",
     "iopub.status.busy": "2024-07-14T20:49:50.581880Z",
     "iopub.status.idle": "2024-07-14T20:49:50.587227Z",
     "shell.execute_reply": "2024-07-14T20:49:50.586314Z"
    },
    "papermill": {
     "duration": 5.702969,
     "end_time": "2024-07-14T20:49:50.589219",
     "exception": false,
     "start_time": "2024-07-14T20:49:44.886250",
     "status": "completed"
    },
    "tags": []
   },
   "outputs": [],
   "source": [
    "#probability averaging\n",
    "def soft_voting_ensemble(oof_df, y_actual):\n",
    "\n",
    "    mean_prob = oof_df.mean(axis=1)\n",
    "    ensemble_auc = roc_auc_score(y_actual, mean_prob)\n",
    "    print(f'Ensemble AUC: {ensemble_auc:.5f}')\n",
    "    \n",
    "    return mean_prob, ensemble_auc\n"
   ]
  },
  {
   "cell_type": "code",
   "execution_count": 31,
   "id": "82204e2d",
   "metadata": {
    "execution": {
     "iopub.execute_input": "2024-07-14T20:50:02.052818Z",
     "iopub.status.busy": "2024-07-14T20:50:02.052462Z",
     "iopub.status.idle": "2024-07-14T20:50:10.982815Z",
     "shell.execute_reply": "2024-07-14T20:50:10.981960Z"
    },
    "papermill": {
     "duration": 14.729286,
     "end_time": "2024-07-14T20:50:10.984829",
     "exception": false,
     "start_time": "2024-07-14T20:49:56.255543",
     "status": "completed"
    },
    "tags": []
   },
   "outputs": [
    {
     "name": "stdout",
     "output_type": "stream",
     "text": [
      "Ensemble AUC: 0.89474\n"
     ]
    }
   ],
   "source": [
    "_ , ensemble_auc = soft_voting_ensemble( oof_predictions, train_df.Response)\n"
   ]
  },
  {
   "cell_type": "code",
   "execution_count": 32,
   "id": "214d2387",
   "metadata": {
    "execution": {
     "iopub.execute_input": "2024-07-14T20:50:22.382780Z",
     "iopub.status.busy": "2024-07-14T20:50:22.382430Z",
     "iopub.status.idle": "2024-07-14T20:50:22.386865Z",
     "shell.execute_reply": "2024-07-14T20:50:22.385961Z"
    },
    "papermill": {
     "duration": 5.695791,
     "end_time": "2024-07-14T20:50:22.388782",
     "exception": false,
     "start_time": "2024-07-14T20:50:16.692991",
     "status": "completed"
    },
    "tags": []
   },
   "outputs": [],
   "source": [
    "#parameters suggested for meta model                                                                                                 \n",
    "meta_model = LogisticRegression(max_iter=4000, random_state=random_state)"
   ]
  },
  {
   "cell_type": "code",
   "execution_count": 33,
   "id": "88592222",
   "metadata": {
    "execution": {
     "iopub.execute_input": "2024-07-14T20:50:33.813279Z",
     "iopub.status.busy": "2024-07-14T20:50:33.812954Z",
     "iopub.status.idle": "2024-07-14T20:51:55.519009Z",
     "shell.execute_reply": "2024-07-14T20:51:55.517206Z"
    },
    "papermill": {
     "duration": 93.095948,
     "end_time": "2024-07-14T20:52:01.276119",
     "exception": false,
     "start_time": "2024-07-14T20:50:28.180171",
     "status": "completed"
    },
    "tags": []
   },
   "outputs": [
    {
     "name": "stdout",
     "output_type": "stream",
     "text": [
      "Best CV score: \n",
      "0.8946736817800808\n",
      "Number of evaluated models: 3\n",
      "Number of selected models for ensemble: 3\n",
      "Selected models: ['xgb' 'catb' 'nn']\n",
      "CPU times: user 32.5 s, sys: 15.7 s, total: 48.2 s\n",
      "Wall time: 1min 21s\n"
     ]
    }
   ],
   "source": [
    "%%time\n",
    "\n",
    "#Deciding which models to include ensemble\n",
    "from sklearn.feature_selection import RFECV\n",
    "\n",
    "min_features_to_select = 1\n",
    "\n",
    "# Create a pipeline with preprocessor, RFECV, and LGBMClassifier\n",
    "pipeline = Pipeline([\n",
    "    \n",
    "    ('Scaler', StandardScaler()),\n",
    "    ('rfecv', RFECV(estimator=meta_model,\n",
    "                    step=1,\n",
    "                    cv=cv,\n",
    "                    scoring=\"roc_auc\",\n",
    "                    min_features_to_select=min_features_to_select,\n",
    "                    n_jobs=-1,))\n",
    "])\n",
    "\n",
    "# Fit the pipeline on the training data\n",
    "pipeline.fit(oof_predictions, train_df.Response)\n",
    "\n",
    "#CV score\n",
    "print(\"Best CV score: \")\n",
    "selected_models = np.array( oof_predictions.columns)[pipeline.named_steps['rfecv'].support_]\n",
    "print( pipeline.named_steps['rfecv'].cv_results_[\"mean_test_score\"][len(selected_models) - 1])\n",
    "\n",
    "\n",
    "\n",
    "# Selected features after RFECV\n",
    "print('Number of evaluated models:', len(oof_predictions.columns))\n",
    "print('Number of selected models for ensemble:', len(selected_models))\n",
    "print(\"Selected models:\", selected_models)"
   ]
  },
  {
   "cell_type": "markdown",
   "id": "7a352ab7",
   "metadata": {
    "papermill": {
     "duration": 5.649789,
     "end_time": "2024-07-14T20:52:12.794580",
     "exception": false,
     "start_time": "2024-07-14T20:52:07.144791",
     "status": "completed"
    },
    "tags": []
   },
   "source": [
    "<a id = \"16\"></a><br>\n",
    "# Submission"
   ]
  },
  {
   "cell_type": "code",
   "execution_count": 34,
   "id": "466e9607",
   "metadata": {
    "execution": {
     "iopub.execute_input": "2024-07-14T20:52:24.212872Z",
     "iopub.status.busy": "2024-07-14T20:52:24.212463Z",
     "iopub.status.idle": "2024-07-14T20:52:24.217643Z",
     "shell.execute_reply": "2024-07-14T20:52:24.216762Z"
    },
    "papermill": {
     "duration": 5.750321,
     "end_time": "2024-07-14T20:52:24.219720",
     "exception": false,
     "start_time": "2024-07-14T20:52:18.469399",
     "status": "completed"
    },
    "tags": []
   },
   "outputs": [],
   "source": [
    "ensemble_pipe = make_pipeline(StandardScaler(), meta_model)"
   ]
  },
  {
   "cell_type": "code",
   "execution_count": 35,
   "id": "9d77a212",
   "metadata": {
    "execution": {
     "iopub.execute_input": "2024-07-14T20:52:35.779280Z",
     "iopub.status.busy": "2024-07-14T20:52:35.778439Z",
     "iopub.status.idle": "2024-07-14T20:52:46.702238Z",
     "shell.execute_reply": "2024-07-14T20:52:46.700838Z"
    },
    "papermill": {
     "duration": 16.62231,
     "end_time": "2024-07-14T20:52:46.705867",
     "exception": false,
     "start_time": "2024-07-14T20:52:30.083557",
     "status": "completed"
    },
    "tags": []
   },
   "outputs": [],
   "source": [
    "\n",
    "ensemble_pipe = ensemble_pipe.fit(oof_predictions[selected_models], train_df.Response)"
   ]
  },
  {
   "cell_type": "code",
   "execution_count": 36,
   "id": "2c829acf",
   "metadata": {
    "execution": {
     "iopub.execute_input": "2024-07-14T20:52:58.337241Z",
     "iopub.status.busy": "2024-07-14T20:52:58.336837Z",
     "iopub.status.idle": "2024-07-14T20:52:58.809157Z",
     "shell.execute_reply": "2024-07-14T20:52:58.808303Z"
    },
    "papermill": {
     "duration": 6.320425,
     "end_time": "2024-07-14T20:52:58.811585",
     "exception": false,
     "start_time": "2024-07-14T20:52:52.491160",
     "status": "completed"
    },
    "tags": []
   },
   "outputs": [],
   "source": [
    "preds_test =  ensemble_pipe.predict_proba(test_predictions[selected_models])[:, 1]"
   ]
  },
  {
   "cell_type": "code",
   "execution_count": 37,
   "id": "0f35ea8c",
   "metadata": {
    "execution": {
     "iopub.execute_input": "2024-07-14T20:53:10.223324Z",
     "iopub.status.busy": "2024-07-14T20:53:10.222943Z",
     "iopub.status.idle": "2024-07-14T20:53:10.271572Z",
     "shell.execute_reply": "2024-07-14T20:53:10.270624Z"
    },
    "papermill": {
     "duration": 5.766102,
     "end_time": "2024-07-14T20:53:10.273538",
     "exception": false,
     "start_time": "2024-07-14T20:53:04.507436",
     "status": "completed"
    },
    "tags": []
   },
   "outputs": [
    {
     "data": {
      "text/html": [
       "<div>\n",
       "<style scoped>\n",
       "    .dataframe tbody tr th:only-of-type {\n",
       "        vertical-align: middle;\n",
       "    }\n",
       "\n",
       "    .dataframe tbody tr th {\n",
       "        vertical-align: top;\n",
       "    }\n",
       "\n",
       "    .dataframe thead th {\n",
       "        text-align: right;\n",
       "    }\n",
       "</style>\n",
       "<table border=\"1\" class=\"dataframe\">\n",
       "  <thead>\n",
       "    <tr style=\"text-align: right;\">\n",
       "      <th></th>\n",
       "      <th>id</th>\n",
       "      <th>Response</th>\n",
       "    </tr>\n",
       "  </thead>\n",
       "  <tbody>\n",
       "    <tr>\n",
       "      <th>0</th>\n",
       "      <td>11504798</td>\n",
       "      <td>0.025019</td>\n",
       "    </tr>\n",
       "    <tr>\n",
       "      <th>1</th>\n",
       "      <td>11504799</td>\n",
       "      <td>0.796279</td>\n",
       "    </tr>\n",
       "    <tr>\n",
       "      <th>2</th>\n",
       "      <td>11504800</td>\n",
       "      <td>0.161017</td>\n",
       "    </tr>\n",
       "    <tr>\n",
       "      <th>3</th>\n",
       "      <td>11504801</td>\n",
       "      <td>0.024195</td>\n",
       "    </tr>\n",
       "    <tr>\n",
       "      <th>4</th>\n",
       "      <td>11504802</td>\n",
       "      <td>0.099872</td>\n",
       "    </tr>\n",
       "  </tbody>\n",
       "</table>\n",
       "</div>"
      ],
      "text/plain": [
       "         id  Response\n",
       "0  11504798  0.025019\n",
       "1  11504799  0.796279\n",
       "2  11504800  0.161017\n",
       "3  11504801  0.024195\n",
       "4  11504802  0.099872"
      ]
     },
     "execution_count": 37,
     "metadata": {},
     "output_type": "execute_result"
    }
   ],
   "source": [
    "output = pd.DataFrame({'id': test_df.index,\n",
    "                       'Response': preds_test})\n",
    "\n",
    "output.head()\n"
   ]
  },
  {
   "cell_type": "code",
   "execution_count": 38,
   "id": "4c507b41",
   "metadata": {
    "execution": {
     "iopub.execute_input": "2024-07-14T20:53:21.612360Z",
     "iopub.status.busy": "2024-07-14T20:53:21.611985Z",
     "iopub.status.idle": "2024-07-14T20:53:26.162741Z",
     "shell.execute_reply": "2024-07-14T20:53:26.161477Z"
    },
    "papermill": {
     "duration": 10.231582,
     "end_time": "2024-07-14T20:53:26.165561",
     "exception": false,
     "start_time": "2024-07-14T20:53:15.933979",
     "status": "completed"
    },
    "tags": []
   },
   "outputs": [],
   "source": [
    "output.to_parquet('submission.parquet', index=False)\n",
    "oof_predictions.to_parquet('oof_predictions.parquet', index=False)\n",
    "test_predictions.to_parquet('test_predictions.parquet', index=False)\n"
   ]
  },
  {
   "cell_type": "code",
   "execution_count": null,
   "id": "17e866b0",
   "metadata": {},
   "outputs": [],
   "source": []
  },
  {
   "cell_type": "code",
   "execution_count": 3,
   "id": "271bdcb5",
   "metadata": {},
   "outputs": [],
   "source": [
    "import pandas as pd\n",
    "data = pd.read_parquet(r\"C:\\Users\\hmhm0\\Downloads\\test_predictions.parquet\")"
   ]
  },
  {
   "cell_type": "code",
   "execution_count": 4,
   "id": "0c0862fb",
   "metadata": {},
   "outputs": [
    {
     "data": {
      "text/html": [
       "<div>\n",
       "<style scoped>\n",
       "    .dataframe tbody tr th:only-of-type {\n",
       "        vertical-align: middle;\n",
       "    }\n",
       "\n",
       "    .dataframe tbody tr th {\n",
       "        vertical-align: top;\n",
       "    }\n",
       "\n",
       "    .dataframe thead th {\n",
       "        text-align: right;\n",
       "    }\n",
       "</style>\n",
       "<table border=\"1\" class=\"dataframe\">\n",
       "  <thead>\n",
       "    <tr style=\"text-align: right;\">\n",
       "      <th></th>\n",
       "      <th>xgb</th>\n",
       "      <th>catb</th>\n",
       "      <th>nn</th>\n",
       "      <th>xgb_01</th>\n",
       "      <th>lgbm</th>\n",
       "      <th>catb_01</th>\n",
       "    </tr>\n",
       "  </thead>\n",
       "  <tbody>\n",
       "    <tr>\n",
       "      <th>0</th>\n",
       "      <td>0.003716</td>\n",
       "      <td>0.005001</td>\n",
       "      <td>0.004895</td>\n",
       "      <td>0.002578</td>\n",
       "      <td>0.003624</td>\n",
       "      <td>0.004904</td>\n",
       "    </tr>\n",
       "    <tr>\n",
       "      <th>1</th>\n",
       "      <td>0.581119</td>\n",
       "      <td>0.658477</td>\n",
       "      <td>0.641002</td>\n",
       "      <td>0.587115</td>\n",
       "      <td>0.668853</td>\n",
       "      <td>0.659865</td>\n",
       "    </tr>\n",
       "    <tr>\n",
       "      <th>2</th>\n",
       "      <td>0.256310</td>\n",
       "      <td>0.250592</td>\n",
       "      <td>0.254486</td>\n",
       "      <td>0.235123</td>\n",
       "      <td>0.232193</td>\n",
       "      <td>0.250410</td>\n",
       "    </tr>\n",
       "    <tr>\n",
       "      <th>3</th>\n",
       "      <td>0.000150</td>\n",
       "      <td>0.000054</td>\n",
       "      <td>0.000034</td>\n",
       "      <td>0.000105</td>\n",
       "      <td>0.000111</td>\n",
       "      <td>0.000055</td>\n",
       "    </tr>\n",
       "    <tr>\n",
       "      <th>4</th>\n",
       "      <td>0.066166</td>\n",
       "      <td>0.195650</td>\n",
       "      <td>0.236961</td>\n",
       "      <td>0.082437</td>\n",
       "      <td>0.096570</td>\n",
       "      <td>0.202179</td>\n",
       "    </tr>\n",
       "    <tr>\n",
       "      <th>...</th>\n",
       "      <td>...</td>\n",
       "      <td>...</td>\n",
       "      <td>...</td>\n",
       "      <td>...</td>\n",
       "      <td>...</td>\n",
       "      <td>...</td>\n",
       "    </tr>\n",
       "    <tr>\n",
       "      <th>7669861</th>\n",
       "      <td>0.196146</td>\n",
       "      <td>0.185493</td>\n",
       "      <td>0.239831</td>\n",
       "      <td>0.187658</td>\n",
       "      <td>0.162312</td>\n",
       "      <td>0.189784</td>\n",
       "    </tr>\n",
       "    <tr>\n",
       "      <th>7669862</th>\n",
       "      <td>0.000162</td>\n",
       "      <td>0.000079</td>\n",
       "      <td>0.000148</td>\n",
       "      <td>0.000101</td>\n",
       "      <td>0.000123</td>\n",
       "      <td>0.000082</td>\n",
       "    </tr>\n",
       "    <tr>\n",
       "      <th>7669863</th>\n",
       "      <td>0.000237</td>\n",
       "      <td>0.000233</td>\n",
       "      <td>0.000138</td>\n",
       "      <td>0.000129</td>\n",
       "      <td>0.000265</td>\n",
       "      <td>0.000218</td>\n",
       "    </tr>\n",
       "    <tr>\n",
       "      <th>7669864</th>\n",
       "      <td>0.621947</td>\n",
       "      <td>0.613546</td>\n",
       "      <td>0.687896</td>\n",
       "      <td>0.598787</td>\n",
       "      <td>0.608393</td>\n",
       "      <td>0.615142</td>\n",
       "    </tr>\n",
       "    <tr>\n",
       "      <th>7669865</th>\n",
       "      <td>0.000094</td>\n",
       "      <td>0.000046</td>\n",
       "      <td>0.000110</td>\n",
       "      <td>0.000035</td>\n",
       "      <td>0.000079</td>\n",
       "      <td>0.000049</td>\n",
       "    </tr>\n",
       "  </tbody>\n",
       "</table>\n",
       "<p>7669866 rows × 6 columns</p>\n",
       "</div>"
      ],
      "text/plain": [
       "              xgb      catb        nn    xgb_01      lgbm   catb_01\n",
       "0        0.003716  0.005001  0.004895  0.002578  0.003624  0.004904\n",
       "1        0.581119  0.658477  0.641002  0.587115  0.668853  0.659865\n",
       "2        0.256310  0.250592  0.254486  0.235123  0.232193  0.250410\n",
       "3        0.000150  0.000054  0.000034  0.000105  0.000111  0.000055\n",
       "4        0.066166  0.195650  0.236961  0.082437  0.096570  0.202179\n",
       "...           ...       ...       ...       ...       ...       ...\n",
       "7669861  0.196146  0.185493  0.239831  0.187658  0.162312  0.189784\n",
       "7669862  0.000162  0.000079  0.000148  0.000101  0.000123  0.000082\n",
       "7669863  0.000237  0.000233  0.000138  0.000129  0.000265  0.000218\n",
       "7669864  0.621947  0.613546  0.687896  0.598787  0.608393  0.615142\n",
       "7669865  0.000094  0.000046  0.000110  0.000035  0.000079  0.000049\n",
       "\n",
       "[7669866 rows x 6 columns]"
      ]
     },
     "execution_count": 4,
     "metadata": {},
     "output_type": "execute_result"
    }
   ],
   "source": [
    "data"
   ]
  },
  {
   "cell_type": "code",
   "execution_count": 5,
   "id": "f445be12",
   "metadata": {},
   "outputs": [
    {
     "data": {
      "text/html": [
       "<div>\n",
       "<style scoped>\n",
       "    .dataframe tbody tr th:only-of-type {\n",
       "        vertical-align: middle;\n",
       "    }\n",
       "\n",
       "    .dataframe tbody tr th {\n",
       "        vertical-align: top;\n",
       "    }\n",
       "\n",
       "    .dataframe thead th {\n",
       "        text-align: right;\n",
       "    }\n",
       "</style>\n",
       "<table border=\"1\" class=\"dataframe\">\n",
       "  <thead>\n",
       "    <tr style=\"text-align: right;\">\n",
       "      <th></th>\n",
       "      <th>xgb</th>\n",
       "      <th>catb</th>\n",
       "      <th>nn</th>\n",
       "      <th>xgb_01</th>\n",
       "      <th>lgbm</th>\n",
       "      <th>catb_01</th>\n",
       "    </tr>\n",
       "  </thead>\n",
       "  <tbody>\n",
       "    <tr>\n",
       "      <th>xgb</th>\n",
       "      <td>1.000000</td>\n",
       "      <td>0.972896</td>\n",
       "      <td>0.973279</td>\n",
       "      <td>0.993390</td>\n",
       "      <td>0.991886</td>\n",
       "      <td>0.973045</td>\n",
       "    </tr>\n",
       "    <tr>\n",
       "      <th>catb</th>\n",
       "      <td>0.972896</td>\n",
       "      <td>1.000000</td>\n",
       "      <td>0.980681</td>\n",
       "      <td>0.967013</td>\n",
       "      <td>0.971925</td>\n",
       "      <td>0.999770</td>\n",
       "    </tr>\n",
       "    <tr>\n",
       "      <th>nn</th>\n",
       "      <td>0.973279</td>\n",
       "      <td>0.980681</td>\n",
       "      <td>1.000000</td>\n",
       "      <td>0.965282</td>\n",
       "      <td>0.972202</td>\n",
       "      <td>0.980866</td>\n",
       "    </tr>\n",
       "    <tr>\n",
       "      <th>xgb_01</th>\n",
       "      <td>0.993390</td>\n",
       "      <td>0.967013</td>\n",
       "      <td>0.965282</td>\n",
       "      <td>1.000000</td>\n",
       "      <td>0.993464</td>\n",
       "      <td>0.967126</td>\n",
       "    </tr>\n",
       "    <tr>\n",
       "      <th>lgbm</th>\n",
       "      <td>0.991886</td>\n",
       "      <td>0.971925</td>\n",
       "      <td>0.972202</td>\n",
       "      <td>0.993464</td>\n",
       "      <td>1.000000</td>\n",
       "      <td>0.972051</td>\n",
       "    </tr>\n",
       "    <tr>\n",
       "      <th>catb_01</th>\n",
       "      <td>0.973045</td>\n",
       "      <td>0.999770</td>\n",
       "      <td>0.980866</td>\n",
       "      <td>0.967126</td>\n",
       "      <td>0.972051</td>\n",
       "      <td>1.000000</td>\n",
       "    </tr>\n",
       "  </tbody>\n",
       "</table>\n",
       "</div>"
      ],
      "text/plain": [
       "              xgb      catb        nn    xgb_01      lgbm   catb_01\n",
       "xgb      1.000000  0.972896  0.973279  0.993390  0.991886  0.973045\n",
       "catb     0.972896  1.000000  0.980681  0.967013  0.971925  0.999770\n",
       "nn       0.973279  0.980681  1.000000  0.965282  0.972202  0.980866\n",
       "xgb_01   0.993390  0.967013  0.965282  1.000000  0.993464  0.967126\n",
       "lgbm     0.991886  0.971925  0.972202  0.993464  1.000000  0.972051\n",
       "catb_01  0.973045  0.999770  0.980866  0.967126  0.972051  1.000000"
      ]
     },
     "execution_count": 5,
     "metadata": {},
     "output_type": "execute_result"
    }
   ],
   "source": [
    "data.corr()"
   ]
  },
  {
   "cell_type": "code",
   "execution_count": null,
   "id": "d1df9dd9",
   "metadata": {},
   "outputs": [],
   "source": []
  },
  {
   "cell_type": "code",
   "execution_count": null,
   "id": "f60eb8ca",
   "metadata": {},
   "outputs": [],
   "source": []
  }
 ],
 "metadata": {
  "kaggle": {
   "accelerator": "gpu",
   "dataSources": [
    {
     "databundleVersionId": 8930475,
     "sourceId": 73291,
     "sourceType": "competition"
    },
    {
     "datasetId": 869050,
     "sourceId": 1480773,
     "sourceType": "datasetVersion"
    }
   ],
   "dockerImageVersionId": 30732,
   "isGpuEnabled": true,
   "isInternetEnabled": true,
   "language": "python",
   "sourceType": "notebook"
  },
  "kernelspec": {
   "display_name": "Python 3",
   "language": "python",
   "name": "python3"
  },
  "language_info": {
   "codemirror_mode": {
    "name": "ipython",
    "version": 3
   },
   "file_extension": ".py",
   "mimetype": "text/x-python",
   "name": "python",
   "nbconvert_exporter": "python",
   "pygments_lexer": "ipython3",
   "version": "3.10.9"
  },
  "papermill": {
   "default_parameters": {},
   "duration": 19907.806206,
   "end_time": "2024-07-14T20:53:35.899536",
   "environment_variables": {},
   "exception": null,
   "input_path": "__notebook__.ipynb",
   "output_path": "__notebook__.ipynb",
   "parameters": {},
   "start_time": "2024-07-14T15:21:48.093330",
   "version": "2.3.4"
  }
 },
 "nbformat": 4,
 "nbformat_minor": 5
}
